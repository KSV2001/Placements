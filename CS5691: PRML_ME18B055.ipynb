{
  "nbformat": 4,
  "nbformat_minor": 0,
  "metadata": {
    "colab": {
      "name": "PRML_ME18B055.ipynb",
      "provenance": [],
      "collapsed_sections": [],
      "toc_visible": true
    },
    "kernelspec": {
      "name": "python3",
      "display_name": "Python 3"
    },
    "language_info": {
      "name": "python"
    }
  },
  "cells": [
    {
      "cell_type": "markdown",
      "metadata": {
        "id": "BLvEpXVsr2RB"
      },
      "source": [
        "#**DATA CONTEST SOLUTION**\n",
        "\n",
        "> Here is the code for the data contest. I have explained everthing appropriately in comments.\n",
        "\n"
      ]
    },
    {
      "cell_type": "markdown",
      "metadata": {
        "id": "AIP8rkb7va5Y"
      },
      "source": [
        "Basic Analysis gave the following observations:\n",
        "1. There are 10000 unique songs (platform_id's)\n",
        "2. There are 14053 unique customer_id's.\n",
        "3. There are features available for only 9981 songs in songs_data.\n",
        "4. There are only 12799 customers in saved_for_later."
      ]
    },
    {
      "cell_type": "markdown",
      "metadata": {
        "id": "qQ2XAO1Nr3Zh"
      },
      "source": [
        "#1. **Preliminary steps**"
      ]
    },
    {
      "cell_type": "code",
      "metadata": {
        "colab": {
          "base_uri": "https://localhost:8080/"
        },
        "id": "7U7Kqxs1GKOq",
        "outputId": "279eb8fa-4542-4aba-e650-d5c07e7683d2"
      },
      "source": [
        "############## Importing Libraries ##################\n",
        "import pandas as pd \n",
        "import matplotlib.pyplot as plt\n",
        "import seaborn as sns\n",
        "import numpy as np\n",
        "import sklearn \n",
        "import scipy\n",
        "!pip install catboost\n",
        "!pip install --upgrade catboost\n",
        "!pip install lightgbm\n",
        "from scipy import stats"
      ],
      "execution_count": null,
      "outputs": [
        {
          "output_type": "stream",
          "text": [
            "Requirement already satisfied: catboost in /usr/local/lib/python3.7/dist-packages (0.25.1)\n",
            "Requirement already satisfied: graphviz in /usr/local/lib/python3.7/dist-packages (from catboost) (0.10.1)\n",
            "Requirement already satisfied: scipy in /usr/local/lib/python3.7/dist-packages (from catboost) (1.4.1)\n",
            "Requirement already satisfied: matplotlib in /usr/local/lib/python3.7/dist-packages (from catboost) (3.2.2)\n",
            "Requirement already satisfied: six in /usr/local/lib/python3.7/dist-packages (from catboost) (1.15.0)\n",
            "Requirement already satisfied: numpy>=1.16.0 in /usr/local/lib/python3.7/dist-packages (from catboost) (1.19.5)\n",
            "Requirement already satisfied: pandas>=0.24.0 in /usr/local/lib/python3.7/dist-packages (from catboost) (1.1.5)\n",
            "Requirement already satisfied: plotly in /usr/local/lib/python3.7/dist-packages (from catboost) (4.4.1)\n",
            "Requirement already satisfied: cycler>=0.10 in /usr/local/lib/python3.7/dist-packages (from matplotlib->catboost) (0.10.0)\n",
            "Requirement already satisfied: python-dateutil>=2.1 in /usr/local/lib/python3.7/dist-packages (from matplotlib->catboost) (2.8.1)\n",
            "Requirement already satisfied: kiwisolver>=1.0.1 in /usr/local/lib/python3.7/dist-packages (from matplotlib->catboost) (1.3.1)\n",
            "Requirement already satisfied: pyparsing!=2.0.4,!=2.1.2,!=2.1.6,>=2.0.1 in /usr/local/lib/python3.7/dist-packages (from matplotlib->catboost) (2.4.7)\n",
            "Requirement already satisfied: pytz>=2017.2 in /usr/local/lib/python3.7/dist-packages (from pandas>=0.24.0->catboost) (2018.9)\n",
            "Requirement already satisfied: retrying>=1.3.3 in /usr/local/lib/python3.7/dist-packages (from plotly->catboost) (1.3.3)\n",
            "Requirement already up-to-date: catboost in /usr/local/lib/python3.7/dist-packages (0.25.1)\n",
            "Requirement already satisfied, skipping upgrade: pandas>=0.24.0 in /usr/local/lib/python3.7/dist-packages (from catboost) (1.1.5)\n",
            "Requirement already satisfied, skipping upgrade: matplotlib in /usr/local/lib/python3.7/dist-packages (from catboost) (3.2.2)\n",
            "Requirement already satisfied, skipping upgrade: six in /usr/local/lib/python3.7/dist-packages (from catboost) (1.15.0)\n",
            "Requirement already satisfied, skipping upgrade: plotly in /usr/local/lib/python3.7/dist-packages (from catboost) (4.4.1)\n",
            "Requirement already satisfied, skipping upgrade: numpy>=1.16.0 in /usr/local/lib/python3.7/dist-packages (from catboost) (1.19.5)\n",
            "Requirement already satisfied, skipping upgrade: scipy in /usr/local/lib/python3.7/dist-packages (from catboost) (1.4.1)\n",
            "Requirement already satisfied, skipping upgrade: graphviz in /usr/local/lib/python3.7/dist-packages (from catboost) (0.10.1)\n",
            "Requirement already satisfied, skipping upgrade: python-dateutil>=2.7.3 in /usr/local/lib/python3.7/dist-packages (from pandas>=0.24.0->catboost) (2.8.1)\n",
            "Requirement already satisfied, skipping upgrade: pytz>=2017.2 in /usr/local/lib/python3.7/dist-packages (from pandas>=0.24.0->catboost) (2018.9)\n",
            "Requirement already satisfied, skipping upgrade: cycler>=0.10 in /usr/local/lib/python3.7/dist-packages (from matplotlib->catboost) (0.10.0)\n",
            "Requirement already satisfied, skipping upgrade: pyparsing!=2.0.4,!=2.1.2,!=2.1.6,>=2.0.1 in /usr/local/lib/python3.7/dist-packages (from matplotlib->catboost) (2.4.7)\n",
            "Requirement already satisfied, skipping upgrade: kiwisolver>=1.0.1 in /usr/local/lib/python3.7/dist-packages (from matplotlib->catboost) (1.3.1)\n",
            "Requirement already satisfied, skipping upgrade: retrying>=1.3.3 in /usr/local/lib/python3.7/dist-packages (from plotly->catboost) (1.3.3)\n",
            "Requirement already satisfied: lightgbm in /usr/local/lib/python3.7/dist-packages (2.2.3)\n",
            "Requirement already satisfied: scikit-learn in /usr/local/lib/python3.7/dist-packages (from lightgbm) (0.22.2.post1)\n",
            "Requirement already satisfied: numpy in /usr/local/lib/python3.7/dist-packages (from lightgbm) (1.19.5)\n",
            "Requirement already satisfied: scipy in /usr/local/lib/python3.7/dist-packages (from lightgbm) (1.4.1)\n",
            "Requirement already satisfied: joblib>=0.11 in /usr/local/lib/python3.7/dist-packages (from scikit-learn->lightgbm) (1.0.1)\n"
          ],
          "name": "stdout"
        }
      ]
    },
    {
      "cell_type": "code",
      "metadata": {
        "colab": {
          "base_uri": "https://localhost:8080/"
        },
        "id": "snSpeaMzPtTG",
        "outputId": "b9c8f172-b992-462a-b807-244c1f51c86c"
      },
      "source": [
        "#Loading the training data\n",
        "train_data = pd.read_csv(\"/content/train.csv\")\n",
        "train_data.info()\n"
      ],
      "execution_count": null,
      "outputs": [
        {
          "output_type": "stream",
          "text": [
            "<class 'pandas.core.frame.DataFrame'>\n",
            "RangeIndex: 710109 entries, 0 to 710108\n",
            "Data columns (total 3 columns):\n",
            " #   Column       Non-Null Count   Dtype \n",
            "---  ------       --------------   ----- \n",
            " 0   customer_id  710109 non-null  object\n",
            " 1   song_id      710109 non-null  int64 \n",
            " 2   score        710109 non-null  int64 \n",
            "dtypes: int64(2), object(1)\n",
            "memory usage: 16.3+ MB\n"
          ],
          "name": "stdout"
        }
      ]
    },
    {
      "cell_type": "code",
      "metadata": {
        "colab": {
          "base_uri": "https://localhost:8080/"
        },
        "id": "ivk4tdhHPv2h",
        "outputId": "b7b2f254-1ac0-4c75-eef1-db308ad68f0d"
      },
      "source": [
        "#Loading the songs_data\n",
        "songs_data = pd.read_csv(\"/content/songs.csv\")\n",
        "songs_data.info()"
      ],
      "execution_count": null,
      "outputs": [
        {
          "output_type": "stream",
          "text": [
            "<class 'pandas.core.frame.DataFrame'>\n",
            "RangeIndex: 9981 entries, 0 to 9980\n",
            "Data columns (total 5 columns):\n",
            " #   Column              Non-Null Count  Dtype  \n",
            "---  ------              --------------  -----  \n",
            " 0   song_id             9981 non-null   int64  \n",
            " 1   platform_id         9981 non-null   object \n",
            " 2   released_year       9965 non-null   float64\n",
            " 3   language            8905 non-null   object \n",
            " 4   number_of_comments  9981 non-null   int64  \n",
            "dtypes: float64(1), int64(2), object(2)\n",
            "memory usage: 390.0+ KB\n"
          ],
          "name": "stdout"
        }
      ]
    },
    {
      "cell_type": "code",
      "metadata": {
        "colab": {
          "base_uri": "https://localhost:8080/"
        },
        "id": "XlAgRM4aPyFC",
        "outputId": "2132134c-500e-478a-ac6a-3335adb91fa1"
      },
      "source": [
        "#Loading the song_labels\n",
        "song_labels = pd.read_csv(\"/content/song_labels.csv\")\n",
        "song_labels.info()\n"
      ],
      "execution_count": null,
      "outputs": [
        {
          "output_type": "stream",
          "text": [
            "<class 'pandas.core.frame.DataFrame'>\n",
            "RangeIndex: 999912 entries, 0 to 999911\n",
            "Data columns (total 3 columns):\n",
            " #   Column       Non-Null Count   Dtype \n",
            "---  ------       --------------   ----- \n",
            " 0   platform_id  999912 non-null  object\n",
            " 1   label_id     999912 non-null  int64 \n",
            " 2   count        999912 non-null  int64 \n",
            "dtypes: int64(2), object(1)\n",
            "memory usage: 22.9+ MB\n"
          ],
          "name": "stdout"
        }
      ]
    },
    {
      "cell_type": "code",
      "metadata": {
        "colab": {
          "base_uri": "https://localhost:8080/"
        },
        "id": "gyEW5z89Pzy8",
        "outputId": "719a5d8f-561c-4f6c-c662-f2de4d27a203"
      },
      "source": [
        "#loading_save_for_later\n",
        "saveforlater = pd.read_csv(\"/content/save_for_later.csv\")\n",
        "saveforlater.info()"
      ],
      "execution_count": null,
      "outputs": [
        {
          "output_type": "stream",
          "text": [
            "<class 'pandas.core.frame.DataFrame'>\n",
            "RangeIndex: 238880 entries, 0 to 238879\n",
            "Data columns (total 2 columns):\n",
            " #   Column       Non-Null Count   Dtype \n",
            "---  ------       --------------   ----- \n",
            " 0   customer_id  238880 non-null  object\n",
            " 1   song_id      238880 non-null  int64 \n",
            "dtypes: int64(1), object(1)\n",
            "memory usage: 3.6+ MB\n"
          ],
          "name": "stdout"
        }
      ]
    },
    {
      "cell_type": "code",
      "metadata": {
        "colab": {
          "base_uri": "https://localhost:8080/"
        },
        "id": "F3TkZqMtP0fU",
        "outputId": "6904c7df-f653-4153-c954-1f4d5634355d"
      },
      "source": [
        "#Loading the test_data\n",
        "test = pd.read_csv(\"/content/test.csv\")\n",
        "test.info()"
      ],
      "execution_count": null,
      "outputs": [
        {
          "output_type": "stream",
          "text": [
            "<class 'pandas.core.frame.DataFrame'>\n",
            "RangeIndex: 670681 entries, 0 to 670680\n",
            "Data columns (total 2 columns):\n",
            " #   Column       Non-Null Count   Dtype \n",
            "---  ------       --------------   ----- \n",
            " 0   customer_id  670681 non-null  object\n",
            " 1   song_id      670681 non-null  int64 \n",
            "dtypes: int64(1), object(1)\n",
            "memory usage: 10.2+ MB\n"
          ],
          "name": "stdout"
        }
      ]
    },
    {
      "cell_type": "code",
      "metadata": {
        "id": "nqOC1GBCiqCz"
      },
      "source": [
        "#Saving the id's of test_row, to produce in outputs.\n",
        "test_row_id = np.array([k for k in range(0, len(test))])"
      ],
      "execution_count": null,
      "outputs": []
    },
    {
      "cell_type": "code",
      "metadata": {
        "id": "ggYi5TmqjD-B"
      },
      "source": [
        "#Initialising an array of np.nan's of test set's length, for later use.\n",
        "score = np.array([np.nan]*len(test))"
      ],
      "execution_count": null,
      "outputs": []
    },
    {
      "cell_type": "code",
      "metadata": {
        "id": "YL-i9HnBjKYd"
      },
      "source": [
        "#Adding the above arrays to the test data set. This is done to make the further steps easy, as explained later.\n",
        "test[\"test_row_id\"] = test_row_id\n",
        "test[\"score\"] = score"
      ],
      "execution_count": null,
      "outputs": []
    },
    {
      "cell_type": "code",
      "metadata": {
        "id": "nApkpB0xjbXR",
        "colab": {
          "base_uri": "https://localhost:8080/",
          "height": 415
        },
        "outputId": "b0630d80-cc33-46d9-f372-131029c9d14a"
      },
      "source": [
        "#Reordering the rows of test set.\n",
        "test = test[['test_row_id','customer_id', 'song_id', 'score']]\n",
        "test"
      ],
      "execution_count": null,
      "outputs": [
        {
          "output_type": "execute_result",
          "data": {
            "text/html": [
              "<div>\n",
              "<style scoped>\n",
              "    .dataframe tbody tr th:only-of-type {\n",
              "        vertical-align: middle;\n",
              "    }\n",
              "\n",
              "    .dataframe tbody tr th {\n",
              "        vertical-align: top;\n",
              "    }\n",
              "\n",
              "    .dataframe thead th {\n",
              "        text-align: right;\n",
              "    }\n",
              "</style>\n",
              "<table border=\"1\" class=\"dataframe\">\n",
              "  <thead>\n",
              "    <tr style=\"text-align: right;\">\n",
              "      <th></th>\n",
              "      <th>test_row_id</th>\n",
              "      <th>customer_id</th>\n",
              "      <th>song_id</th>\n",
              "      <th>score</th>\n",
              "    </tr>\n",
              "  </thead>\n",
              "  <tbody>\n",
              "    <tr>\n",
              "      <th>0</th>\n",
              "      <td>0</td>\n",
              "      <td>J24644</td>\n",
              "      <td>5304</td>\n",
              "      <td>NaN</td>\n",
              "    </tr>\n",
              "    <tr>\n",
              "      <th>1</th>\n",
              "      <td>1</td>\n",
              "      <td>G29701</td>\n",
              "      <td>123</td>\n",
              "      <td>NaN</td>\n",
              "    </tr>\n",
              "    <tr>\n",
              "      <th>2</th>\n",
              "      <td>2</td>\n",
              "      <td>M29977</td>\n",
              "      <td>11</td>\n",
              "      <td>NaN</td>\n",
              "    </tr>\n",
              "    <tr>\n",
              "      <th>3</th>\n",
              "      <td>3</td>\n",
              "      <td>H50752</td>\n",
              "      <td>1445</td>\n",
              "      <td>NaN</td>\n",
              "    </tr>\n",
              "    <tr>\n",
              "      <th>4</th>\n",
              "      <td>4</td>\n",
              "      <td>J42394</td>\n",
              "      <td>271</td>\n",
              "      <td>NaN</td>\n",
              "    </tr>\n",
              "    <tr>\n",
              "      <th>...</th>\n",
              "      <td>...</td>\n",
              "      <td>...</td>\n",
              "      <td>...</td>\n",
              "      <td>...</td>\n",
              "    </tr>\n",
              "    <tr>\n",
              "      <th>670676</th>\n",
              "      <td>670676</td>\n",
              "      <td>J20614</td>\n",
              "      <td>92</td>\n",
              "      <td>NaN</td>\n",
              "    </tr>\n",
              "    <tr>\n",
              "      <th>670677</th>\n",
              "      <td>670677</td>\n",
              "      <td>F11740</td>\n",
              "      <td>21</td>\n",
              "      <td>NaN</td>\n",
              "    </tr>\n",
              "    <tr>\n",
              "      <th>670678</th>\n",
              "      <td>670678</td>\n",
              "      <td>I43093</td>\n",
              "      <td>2294</td>\n",
              "      <td>NaN</td>\n",
              "    </tr>\n",
              "    <tr>\n",
              "      <th>670679</th>\n",
              "      <td>670679</td>\n",
              "      <td>J26924</td>\n",
              "      <td>1216</td>\n",
              "      <td>NaN</td>\n",
              "    </tr>\n",
              "    <tr>\n",
              "      <th>670680</th>\n",
              "      <td>670680</td>\n",
              "      <td>I39603</td>\n",
              "      <td>8980</td>\n",
              "      <td>NaN</td>\n",
              "    </tr>\n",
              "  </tbody>\n",
              "</table>\n",
              "<p>670681 rows × 4 columns</p>\n",
              "</div>"
            ],
            "text/plain": [
              "        test_row_id customer_id  song_id  score\n",
              "0                 0      J24644     5304    NaN\n",
              "1                 1      G29701      123    NaN\n",
              "2                 2      M29977       11    NaN\n",
              "3                 3      H50752     1445    NaN\n",
              "4                 4      J42394      271    NaN\n",
              "...             ...         ...      ...    ...\n",
              "670676       670676      J20614       92    NaN\n",
              "670677       670677      F11740       21    NaN\n",
              "670678       670678      I43093     2294    NaN\n",
              "670679       670679      J26924     1216    NaN\n",
              "670680       670680      I39603     8980    NaN\n",
              "\n",
              "[670681 rows x 4 columns]"
            ]
          },
          "metadata": {
            "tags": []
          },
          "execution_count": 70
        }
      ]
    },
    {
      "cell_type": "markdown",
      "metadata": {
        "id": "I1EDJ3UvyPnU"
      },
      "source": [
        "#2. **Preprocessing, Imputation of missing values**"
      ]
    },
    {
      "cell_type": "code",
      "metadata": {
        "id": "cdoOtJ7TP9xJ"
      },
      "source": [
        "#This function sorts a pandas data frame as per the values in column with index i and returns sorted df\n",
        "def sortdf(df, i):\n",
        "  col = list(df.columns.values)\n",
        "  l = df.values.tolist()\n",
        "  sorted_l = sorted(l,key = lambda z : z[i])\n",
        "  arr_s = np.array(sorted_l)\n",
        "  res = pd.DataFrame(arr_s, columns = col)\n",
        "  \n",
        "  return res #the sorted data frame according to values in the given column index."
      ],
      "execution_count": null,
      "outputs": []
    },
    {
      "cell_type": "code",
      "metadata": {
        "id": "9YkM8ZggQEZN"
      },
      "source": [
        "#In song_labels, there are many labels assigned for the same song, by different users, frequency given by count.\n",
        "#We will produce a unique label for a given song (two songs can have same label, but a song has only one label.)\n",
        "#For this, we will take the weighted mean of label_id's using the counts and assign it as the label to the song.\n",
        "#This may produce decimals, so we consider this feature as float value.\n",
        "l = song_labels.values.tolist()\n",
        "sorted_l = sorted(l,key=lambda z:z[0])\n",
        "arr_sl = np.array(sorted_l)\n",
        "\n",
        "nr_sl = np.shape(arr_sl)[0]\n",
        "\n",
        "# Empty array of two columns\n",
        "modified_sl = np.empty((0,2), (np.str_,int))\n",
        "temp = 0\n",
        "\n",
        "modified_sl = np.append(modified_sl,np.array([[arr_sl[0][0],0]]),axis=0)\n",
        "\n",
        "modified_sl[0][1] = int(arr_sl[0][1]) * int(arr_sl[0][2])\n",
        "cnt = 1\n",
        "\n",
        "for i in range(1, nr_sl) :\n",
        "  if (arr_sl[i][0] != arr_sl[i-1][0]) :\n",
        "    sz = np.shape(modified_sl)[0]\n",
        "    temp = int(modified_sl[sz-1][1])\n",
        "    temp /= cnt\n",
        "    modified_sl[sz-1][1] = temp\n",
        "    modified_sl = np.append(modified_sl,np.array([[arr_sl[i][0],0]]),axis=0)\n",
        "    modified_sl[sz][1] = int(arr_sl[i][1]) * int(arr_sl[i][2])\n",
        "    cnt = 1\n",
        "  else :\n",
        "    sz = np.shape(modified_sl)[0]\n",
        "    temp = int(modified_sl[sz - 1][1])\n",
        "    temp += int(arr_sl[i][1]) * int(arr_sl[i][2])\n",
        "    modified_sl[sz - 1][1] = temp\n",
        "    cnt = cnt + 1\n",
        "    if (i == nr_sl - 1) :\n",
        "      temp = int(modified_sl[sz - 1][1])\n",
        "      temp /= cnt\n",
        "      modified_sl[sz - 1][1] = temp\n"
      ],
      "execution_count": null,
      "outputs": []
    },
    {
      "cell_type": "code",
      "metadata": {
        "id": "ixVhg3yuQHQO"
      },
      "source": [
        "#We now convert the songs_data into array, and sort it according to the platform_id's.\n",
        "#This is done because, we know that there is a bijection between platform_id and song_id, but we have only 9981 song_id's in songs_data file.\n",
        "#But we have all 10000 unique platform_id's. So, we must first find an accurate match of the remaining 19 song_id's and platform_id's.\n",
        "l1 = songs_data.values.tolist()\n",
        "sorted_l1 = sorted(l1, key=lambda z:z[1])\n",
        "arr_s = np.array(sorted_l1)"
      ],
      "execution_count": null,
      "outputs": []
    },
    {
      "cell_type": "code",
      "metadata": {
        "id": "d-yRaIB6QJhw"
      },
      "source": [
        "#s_modified will give the features of 9981 songs with their platform_id's, using song_labels set.\n",
        "#s_left over will give the label_id and platform_id of the other 19 songs.\n",
        "s_modified = np.empty((0,6))\n",
        "sl_leftover = np.empty((0,2))\n",
        "\n",
        "sl_sz = np.shape(modified_sl)[0]  # 10000 only\n",
        "s_sz = np.shape(arr_s)[0]         # 9981 only\n",
        "\n",
        "j = 0 # for arr_s\n",
        "\n",
        "for i in range(0, sl_sz) :\n",
        "  if (j < s_sz and arr_s[j][1] == modified_sl[i][0]) :\n",
        "    s_modified = np.append(s_modified, np.array([[arr_s[j][0], arr_s[j][1], arr_s[j][2], arr_s[j][3], arr_s[j][4], modified_sl[i][1]]]), axis=0)\n",
        "    j = j + 1\n",
        "  else :\n",
        "    sl_leftover = np.append(sl_leftover, np.array([[modified_sl[i][0], modified_sl[i][1]]]), axis=0)"
      ],
      "execution_count": null,
      "outputs": []
    },
    {
      "cell_type": "code",
      "metadata": {
        "colab": {
          "base_uri": "https://localhost:8080/",
          "height": 857
        },
        "id": "3NFE-VWpQPbc",
        "outputId": "1d048a08-4909-4877-bb73-3916b64e96b0"
      },
      "source": [
        "#we will construct a data frame, songs19_df, to denote those 19 platform_id's and label_id's.\n",
        "song_mod_df = pd.DataFrame(s_modified,columns=['song_id', 'platform_id','released_year','language','no.of_comments','label_id'])\n",
        "\n",
        "songs19_df = pd.DataFrame(sl_leftover,columns = ['platform_id', 'label_id'])\n",
        "song_mod_df.info()\n",
        "songs19_df\n"
      ],
      "execution_count": null,
      "outputs": [
        {
          "output_type": "stream",
          "text": [
            "<class 'pandas.core.frame.DataFrame'>\n",
            "RangeIndex: 9981 entries, 0 to 9980\n",
            "Data columns (total 6 columns):\n",
            " #   Column          Non-Null Count  Dtype \n",
            "---  ------          --------------  ----- \n",
            " 0   song_id         9981 non-null   object\n",
            " 1   platform_id     9981 non-null   object\n",
            " 2   released_year   9981 non-null   object\n",
            " 3   language        9981 non-null   object\n",
            " 4   no.of_comments  9981 non-null   object\n",
            " 5   label_id        9981 non-null   object\n",
            "dtypes: object(6)\n",
            "memory usage: 468.0+ KB\n"
          ],
          "name": "stdout"
        },
        {
          "output_type": "execute_result",
          "data": {
            "text/html": [
              "<div>\n",
              "<style scoped>\n",
              "    .dataframe tbody tr th:only-of-type {\n",
              "        vertical-align: middle;\n",
              "    }\n",
              "\n",
              "    .dataframe tbody tr th {\n",
              "        vertical-align: top;\n",
              "    }\n",
              "\n",
              "    .dataframe thead th {\n",
              "        text-align: right;\n",
              "    }\n",
              "</style>\n",
              "<table border=\"1\" class=\"dataframe\">\n",
              "  <thead>\n",
              "    <tr style=\"text-align: right;\">\n",
              "      <th></th>\n",
              "      <th>platform_id</th>\n",
              "      <th>label_id</th>\n",
              "    </tr>\n",
              "  </thead>\n",
              "  <tbody>\n",
              "    <tr>\n",
              "      <th>0</th>\n",
              "      <td>Q34541</td>\n",
              "      <td>3358995.7</td>\n",
              "    </tr>\n",
              "    <tr>\n",
              "      <th>1</th>\n",
              "      <td>Q6485421</td>\n",
              "      <td>1599958.6</td>\n",
              "    </tr>\n",
              "    <tr>\n",
              "      <th>2</th>\n",
              "      <td>R16902</td>\n",
              "      <td>4339295.2</td>\n",
              "    </tr>\n",
              "    <tr>\n",
              "      <th>3</th>\n",
              "      <td>R90072</td>\n",
              "      <td>765840.34</td>\n",
              "    </tr>\n",
              "    <tr>\n",
              "      <th>4</th>\n",
              "      <td>S21323</td>\n",
              "      <td>1624348.5</td>\n",
              "    </tr>\n",
              "    <tr>\n",
              "      <th>5</th>\n",
              "      <td>S351023</td>\n",
              "      <td>1792782.6</td>\n",
              "    </tr>\n",
              "    <tr>\n",
              "      <th>6</th>\n",
              "      <td>S7402393</td>\n",
              "      <td>4932308.4</td>\n",
              "    </tr>\n",
              "    <tr>\n",
              "      <th>7</th>\n",
              "      <td>T11410104</td>\n",
              "      <td>308963.9</td>\n",
              "    </tr>\n",
              "    <tr>\n",
              "      <th>8</th>\n",
              "      <td>U1034605</td>\n",
              "      <td>280243.83</td>\n",
              "    </tr>\n",
              "    <tr>\n",
              "      <th>9</th>\n",
              "      <td>U1375</td>\n",
              "      <td>513049.99</td>\n",
              "    </tr>\n",
              "    <tr>\n",
              "      <th>10</th>\n",
              "      <td>U56405</td>\n",
              "      <td>7246933.2</td>\n",
              "    </tr>\n",
              "    <tr>\n",
              "      <th>11</th>\n",
              "      <td>V197436</td>\n",
              "      <td>463858.84</td>\n",
              "    </tr>\n",
              "    <tr>\n",
              "      <th>12</th>\n",
              "      <td>W1056627</td>\n",
              "      <td>860035.16</td>\n",
              "    </tr>\n",
              "    <tr>\n",
              "      <th>13</th>\n",
              "      <td>W94807</td>\n",
              "      <td>428389.03</td>\n",
              "    </tr>\n",
              "    <tr>\n",
              "      <th>14</th>\n",
              "      <td>X4352708</td>\n",
              "      <td>3517635.3</td>\n",
              "    </tr>\n",
              "    <tr>\n",
              "      <th>15</th>\n",
              "      <td>Y2992069</td>\n",
              "      <td>1581898.9</td>\n",
              "    </tr>\n",
              "    <tr>\n",
              "      <th>16</th>\n",
              "      <td>Y7263429</td>\n",
              "      <td>3774969.9</td>\n",
              "    </tr>\n",
              "    <tr>\n",
              "      <th>17</th>\n",
              "      <td>Y809849</td>\n",
              "      <td>1196871.4</td>\n",
              "    </tr>\n",
              "    <tr>\n",
              "      <th>18</th>\n",
              "      <td>Y8130839</td>\n",
              "      <td>1573603.4</td>\n",
              "    </tr>\n",
              "  </tbody>\n",
              "</table>\n",
              "</div>"
            ],
            "text/plain": [
              "   platform_id   label_id\n",
              "0       Q34541  3358995.7\n",
              "1     Q6485421  1599958.6\n",
              "2       R16902  4339295.2\n",
              "3       R90072  765840.34\n",
              "4       S21323  1624348.5\n",
              "5      S351023  1792782.6\n",
              "6     S7402393  4932308.4\n",
              "7    T11410104   308963.9\n",
              "8     U1034605  280243.83\n",
              "9        U1375  513049.99\n",
              "10      U56405  7246933.2\n",
              "11     V197436  463858.84\n",
              "12    W1056627  860035.16\n",
              "13      W94807  428389.03\n",
              "14    X4352708  3517635.3\n",
              "15    Y2992069  1581898.9\n",
              "16    Y7263429  3774969.9\n",
              "17     Y809849  1196871.4\n",
              "18    Y8130839  1573603.4"
            ]
          },
          "metadata": {
            "tags": []
          },
          "execution_count": 75
        }
      ]
    },
    {
      "cell_type": "code",
      "metadata": {
        "id": "SQtwaFJJadBp"
      },
      "source": [
        "#The sortdf function has an issue with it.\n",
        "#When the input dataframe has missing values (np.nan), it converts them into 'nan' string valued cstegorical variables.\n",
        "#To remove that, we need to replace them by np.nan. We do that here.\n",
        "for i in range(9981):\n",
        "  if song_mod_df['released_year'][i] == 'nan':\n",
        "     song_mod_df['released_year'][i] = np.nan\n",
        "for i in range(9981):\n",
        "  if song_mod_df['language'][i] == 'nan':\n",
        "     song_mod_df['language'][i] = np.nan"
      ],
      "execution_count": null,
      "outputs": []
    },
    {
      "cell_type": "code",
      "metadata": {
        "colab": {
          "base_uri": "https://localhost:8080/"
        },
        "id": "jdq4srlMQXDb",
        "outputId": "51491938-3c39-4910-9638-ea08f2d9104c"
      },
      "source": [
        "#This will add the platform_id correspondingly to the 9981 songs in song_labels dataset.\n",
        "song_mod_df.info()"
      ],
      "execution_count": null,
      "outputs": [
        {
          "output_type": "stream",
          "text": [
            "<class 'pandas.core.frame.DataFrame'>\n",
            "RangeIndex: 9981 entries, 0 to 9980\n",
            "Data columns (total 6 columns):\n",
            " #   Column          Non-Null Count  Dtype \n",
            "---  ------          --------------  ----- \n",
            " 0   song_id         9981 non-null   object\n",
            " 1   platform_id     9981 non-null   object\n",
            " 2   released_year   9965 non-null   object\n",
            " 3   language        8905 non-null   object\n",
            " 4   no.of_comments  9981 non-null   object\n",
            " 5   label_id        9981 non-null   object\n",
            "dtypes: object(6)\n",
            "memory usage: 468.0+ KB\n"
          ],
          "name": "stdout"
        }
      ]
    },
    {
      "cell_type": "code",
      "metadata": {
        "colab": {
          "base_uri": "https://localhost:8080/",
          "height": 415
        },
        "id": "c98EjzfoQZGm",
        "outputId": "070b99e3-f527-46b2-ad27-bdf58c8ff647"
      },
      "source": [
        "#We will create a dataframe with song_id an platform_id, wit hsong_id's sorted. It has 9981 rows.\n",
        "#The middle values are missing, so the first and last values are 1 and 10000.\n",
        "plat_song ={ \"song_id\" : song_mod_df[\"song_id\"], \"platform_id\" : song_mod_df['platform_id']}\n",
        "df = pd.DataFrame(plat_song)\n",
        "for i in range(9981):\n",
        "  df['song_id'][i] = int(df['song_id'][i])\n",
        "df_sort = sortdf(df, 0)\n",
        "df_sort"
      ],
      "execution_count": null,
      "outputs": [
        {
          "output_type": "execute_result",
          "data": {
            "text/html": [
              "<div>\n",
              "<style scoped>\n",
              "    .dataframe tbody tr th:only-of-type {\n",
              "        vertical-align: middle;\n",
              "    }\n",
              "\n",
              "    .dataframe tbody tr th {\n",
              "        vertical-align: top;\n",
              "    }\n",
              "\n",
              "    .dataframe thead th {\n",
              "        text-align: right;\n",
              "    }\n",
              "</style>\n",
              "<table border=\"1\" class=\"dataframe\">\n",
              "  <thead>\n",
              "    <tr style=\"text-align: right;\">\n",
              "      <th></th>\n",
              "      <th>song_id</th>\n",
              "      <th>platform_id</th>\n",
              "    </tr>\n",
              "  </thead>\n",
              "  <tbody>\n",
              "    <tr>\n",
              "      <th>0</th>\n",
              "      <td>1</td>\n",
              "      <td>R2767052</td>\n",
              "    </tr>\n",
              "    <tr>\n",
              "      <th>1</th>\n",
              "      <td>2</td>\n",
              "      <td>S3</td>\n",
              "    </tr>\n",
              "    <tr>\n",
              "      <th>2</th>\n",
              "      <td>3</td>\n",
              "      <td>U41865</td>\n",
              "    </tr>\n",
              "    <tr>\n",
              "      <th>3</th>\n",
              "      <td>4</td>\n",
              "      <td>W2657</td>\n",
              "    </tr>\n",
              "    <tr>\n",
              "      <th>4</th>\n",
              "      <td>5</td>\n",
              "      <td>Q4671</td>\n",
              "    </tr>\n",
              "    <tr>\n",
              "      <th>...</th>\n",
              "      <td>...</td>\n",
              "      <td>...</td>\n",
              "    </tr>\n",
              "    <tr>\n",
              "      <th>9976</th>\n",
              "      <td>9996</td>\n",
              "      <td>V7130616</td>\n",
              "    </tr>\n",
              "    <tr>\n",
              "      <th>9977</th>\n",
              "      <td>9997</td>\n",
              "      <td>T208324</td>\n",
              "    </tr>\n",
              "    <tr>\n",
              "      <th>9978</th>\n",
              "      <td>9998</td>\n",
              "      <td>Q77431</td>\n",
              "    </tr>\n",
              "    <tr>\n",
              "      <th>9979</th>\n",
              "      <td>9999</td>\n",
              "      <td>S8565083</td>\n",
              "    </tr>\n",
              "    <tr>\n",
              "      <th>9980</th>\n",
              "      <td>10000</td>\n",
              "      <td>T8914</td>\n",
              "    </tr>\n",
              "  </tbody>\n",
              "</table>\n",
              "<p>9981 rows × 2 columns</p>\n",
              "</div>"
            ],
            "text/plain": [
              "     song_id platform_id\n",
              "0          1    R2767052\n",
              "1          2          S3\n",
              "2          3      U41865\n",
              "3          4       W2657\n",
              "4          5       Q4671\n",
              "...      ...         ...\n",
              "9976    9996    V7130616\n",
              "9977    9997     T208324\n",
              "9978    9998      Q77431\n",
              "9979    9999    S8565083\n",
              "9980   10000       T8914\n",
              "\n",
              "[9981 rows x 2 columns]"
            ]
          },
          "metadata": {
            "tags": []
          },
          "execution_count": 78
        }
      ]
    },
    {
      "cell_type": "code",
      "metadata": {
        "colab": {
          "base_uri": "https://localhost:8080/",
          "height": 631
        },
        "id": "GkJ87_X0Qd1n",
        "outputId": "a8f6d99b-d187-464d-ed16-392190adaa4c"
      },
      "source": [
        "#We will estimate the correlation between the 19 platform_id and song_id as follows:\n",
        "#First, we will take a data set of 3 columns, which are the platform_id, label_id and song_id for 9981 songs in songs_data.\n",
        "#Taking platform_id and label_id as features, we will fit a regression model to estimate the tagret - song_id.\n",
        "#Now, using this model, we predict song_id's of the 19 other songs.\n",
        "#We will sort these as per these predicted values and add the missing actial song_id's, so that the order is preserved.\n",
        "#We use catboost for this becauce platform_id is a categorical feature. \n",
        "#Also, we use validation method to tune parameters of catboost.\n",
        "from sklearn.model_selection import train_test_split\n",
        "X = {'platform_id': song_mod_df['platform_id'],'label_id':song_mod_df['label_id'] }\n",
        "X = pd.DataFrame(X)\n",
        "y = pd.DataFrame(song_mod_df['song_id'])\n",
        "X_test = songs19_df\n",
        "\n",
        "from catboost import CatBoostRegressor\n",
        "\n",
        "clf = CatBoostRegressor(iterations=5,cat_features= ['platform_id'],learning_rate=0.1)\n",
        "X_train, X_val, y_train, y_val = train_test_split(X, y, test_size=0.2, random_state=0)\n",
        "\n",
        "clf.fit(X_train, y_train, cat_features = ['platform_id'],eval_set=(X_val, y_val), verbose=False)\n",
        "\n",
        "res = clf.predict(X_test)\n",
        "X_test['song_id'] = res\n",
        "\n",
        "\n",
        "s1 = set(train_data['song_id'])\n",
        "s2 = set(songs_data['song_id'])\n",
        "s3 = s1 - s2\n",
        "s3 = list(sorted(s3))\n",
        "X_test_sort = sortdf(X_test,2)\n",
        "X_test_sort['song_id'] = s3\n",
        "X_test_sort #This has the predicted mapping between the 19 song_id's and platform_id's, with label_id's."
      ],
      "execution_count": null,
      "outputs": [
        {
          "output_type": "execute_result",
          "data": {
            "text/html": [
              "<div>\n",
              "<style scoped>\n",
              "    .dataframe tbody tr th:only-of-type {\n",
              "        vertical-align: middle;\n",
              "    }\n",
              "\n",
              "    .dataframe tbody tr th {\n",
              "        vertical-align: top;\n",
              "    }\n",
              "\n",
              "    .dataframe thead th {\n",
              "        text-align: right;\n",
              "    }\n",
              "</style>\n",
              "<table border=\"1\" class=\"dataframe\">\n",
              "  <thead>\n",
              "    <tr style=\"text-align: right;\">\n",
              "      <th></th>\n",
              "      <th>platform_id</th>\n",
              "      <th>label_id</th>\n",
              "      <th>song_id</th>\n",
              "    </tr>\n",
              "  </thead>\n",
              "  <tbody>\n",
              "    <tr>\n",
              "      <th>0</th>\n",
              "      <td>U56405</td>\n",
              "      <td>7246933.2</td>\n",
              "      <td>819</td>\n",
              "    </tr>\n",
              "    <tr>\n",
              "      <th>1</th>\n",
              "      <td>S7402393</td>\n",
              "      <td>4932308.4</td>\n",
              "      <td>976</td>\n",
              "    </tr>\n",
              "    <tr>\n",
              "      <th>2</th>\n",
              "      <td>R16902</td>\n",
              "      <td>4339295.2</td>\n",
              "      <td>1724</td>\n",
              "    </tr>\n",
              "    <tr>\n",
              "      <th>3</th>\n",
              "      <td>Q34541</td>\n",
              "      <td>3358995.7</td>\n",
              "      <td>1754</td>\n",
              "    </tr>\n",
              "    <tr>\n",
              "      <th>4</th>\n",
              "      <td>X4352708</td>\n",
              "      <td>3517635.3</td>\n",
              "      <td>2142</td>\n",
              "    </tr>\n",
              "    <tr>\n",
              "      <th>5</th>\n",
              "      <td>Y7263429</td>\n",
              "      <td>3774969.9</td>\n",
              "      <td>2638</td>\n",
              "    </tr>\n",
              "    <tr>\n",
              "      <th>6</th>\n",
              "      <td>S351023</td>\n",
              "      <td>1792782.6</td>\n",
              "      <td>2951</td>\n",
              "    </tr>\n",
              "    <tr>\n",
              "      <th>7</th>\n",
              "      <td>S21323</td>\n",
              "      <td>1624348.5</td>\n",
              "      <td>3200</td>\n",
              "    </tr>\n",
              "    <tr>\n",
              "      <th>8</th>\n",
              "      <td>Q6485421</td>\n",
              "      <td>1599958.6</td>\n",
              "      <td>5612</td>\n",
              "    </tr>\n",
              "    <tr>\n",
              "      <th>9</th>\n",
              "      <td>Y2992069</td>\n",
              "      <td>1581898.9</td>\n",
              "      <td>5857</td>\n",
              "    </tr>\n",
              "    <tr>\n",
              "      <th>10</th>\n",
              "      <td>Y8130839</td>\n",
              "      <td>1573603.4</td>\n",
              "      <td>6731</td>\n",
              "    </tr>\n",
              "    <tr>\n",
              "      <th>11</th>\n",
              "      <td>Y809849</td>\n",
              "      <td>1196871.4</td>\n",
              "      <td>7216</td>\n",
              "    </tr>\n",
              "    <tr>\n",
              "      <th>12</th>\n",
              "      <td>R90072</td>\n",
              "      <td>765840.34</td>\n",
              "      <td>7646</td>\n",
              "    </tr>\n",
              "    <tr>\n",
              "      <th>13</th>\n",
              "      <td>W1056627</td>\n",
              "      <td>860035.16</td>\n",
              "      <td>8050</td>\n",
              "    </tr>\n",
              "    <tr>\n",
              "      <th>14</th>\n",
              "      <td>T11410104</td>\n",
              "      <td>308963.9</td>\n",
              "      <td>8055</td>\n",
              "    </tr>\n",
              "    <tr>\n",
              "      <th>15</th>\n",
              "      <td>U1034605</td>\n",
              "      <td>280243.83</td>\n",
              "      <td>8477</td>\n",
              "    </tr>\n",
              "    <tr>\n",
              "      <th>16</th>\n",
              "      <td>U1375</td>\n",
              "      <td>513049.99</td>\n",
              "      <td>8665</td>\n",
              "    </tr>\n",
              "    <tr>\n",
              "      <th>17</th>\n",
              "      <td>V197436</td>\n",
              "      <td>463858.84</td>\n",
              "      <td>9534</td>\n",
              "    </tr>\n",
              "    <tr>\n",
              "      <th>18</th>\n",
              "      <td>W94807</td>\n",
              "      <td>428389.03</td>\n",
              "      <td>9769</td>\n",
              "    </tr>\n",
              "  </tbody>\n",
              "</table>\n",
              "</div>"
            ],
            "text/plain": [
              "   platform_id   label_id  song_id\n",
              "0       U56405  7246933.2      819\n",
              "1     S7402393  4932308.4      976\n",
              "2       R16902  4339295.2     1724\n",
              "3       Q34541  3358995.7     1754\n",
              "4     X4352708  3517635.3     2142\n",
              "5     Y7263429  3774969.9     2638\n",
              "6      S351023  1792782.6     2951\n",
              "7       S21323  1624348.5     3200\n",
              "8     Q6485421  1599958.6     5612\n",
              "9     Y2992069  1581898.9     5857\n",
              "10    Y8130839  1573603.4     6731\n",
              "11     Y809849  1196871.4     7216\n",
              "12      R90072  765840.34     7646\n",
              "13    W1056627  860035.16     8050\n",
              "14   T11410104   308963.9     8055\n",
              "15    U1034605  280243.83     8477\n",
              "16       U1375  513049.99     8665\n",
              "17     V197436  463858.84     9534\n",
              "18      W94807  428389.03     9769"
            ]
          },
          "metadata": {
            "tags": []
          },
          "execution_count": 79
        }
      ]
    },
    {
      "cell_type": "code",
      "metadata": {
        "colab": {
          "base_uri": "https://localhost:8080/",
          "height": 641
        },
        "id": "9DD-BGtyQeeV",
        "outputId": "a3e0f1e0-1211-4d2d-f451-03d08c0e4746"
      },
      "source": [
        "concatenated_df = pd.concat([song_mod_df, X_test_sort])\n",
        "concatenated_df.info()\n",
        "#concatenated_df has 6 features, 10k rows for all unique songs, with missing values from song_labels data set.\n",
        "concatenated_df"
      ],
      "execution_count": null,
      "outputs": [
        {
          "output_type": "stream",
          "text": [
            "<class 'pandas.core.frame.DataFrame'>\n",
            "Int64Index: 10000 entries, 0 to 18\n",
            "Data columns (total 6 columns):\n",
            " #   Column          Non-Null Count  Dtype \n",
            "---  ------          --------------  ----- \n",
            " 0   song_id         10000 non-null  object\n",
            " 1   platform_id     10000 non-null  object\n",
            " 2   released_year   9965 non-null   object\n",
            " 3   language        8905 non-null   object\n",
            " 4   no.of_comments  9981 non-null   object\n",
            " 5   label_id        10000 non-null  object\n",
            "dtypes: object(6)\n",
            "memory usage: 546.9+ KB\n"
          ],
          "name": "stdout"
        },
        {
          "output_type": "execute_result",
          "data": {
            "text/html": [
              "<div>\n",
              "<style scoped>\n",
              "    .dataframe tbody tr th:only-of-type {\n",
              "        vertical-align: middle;\n",
              "    }\n",
              "\n",
              "    .dataframe tbody tr th {\n",
              "        vertical-align: top;\n",
              "    }\n",
              "\n",
              "    .dataframe thead th {\n",
              "        text-align: right;\n",
              "    }\n",
              "</style>\n",
              "<table border=\"1\" class=\"dataframe\">\n",
              "  <thead>\n",
              "    <tr style=\"text-align: right;\">\n",
              "      <th></th>\n",
              "      <th>song_id</th>\n",
              "      <th>platform_id</th>\n",
              "      <th>released_year</th>\n",
              "      <th>language</th>\n",
              "      <th>no.of_comments</th>\n",
              "      <th>label_id</th>\n",
              "    </tr>\n",
              "  </thead>\n",
              "  <tbody>\n",
              "    <tr>\n",
              "      <th>0</th>\n",
              "      <td>3753</td>\n",
              "      <td>P10</td>\n",
              "      <td>2005.0</td>\n",
              "      <td>eng</td>\n",
              "      <td>882</td>\n",
              "      <td>5.6</td>\n",
              "    </tr>\n",
              "    <tr>\n",
              "      <th>1</th>\n",
              "      <td>9019</td>\n",
              "      <td>P10090</td>\n",
              "      <td>1999.0</td>\n",
              "      <td>en-US</td>\n",
              "      <td>178</td>\n",
              "      <td>3677.8</td>\n",
              "    </tr>\n",
              "    <tr>\n",
              "      <th>2</th>\n",
              "      <td>7173</td>\n",
              "      <td>P102030</td>\n",
              "      <td>1935.0</td>\n",
              "      <td>eng</td>\n",
              "      <td>759</td>\n",
              "      <td>51773.3</td>\n",
              "    </tr>\n",
              "    <tr>\n",
              "      <th>3</th>\n",
              "      <td>43</td>\n",
              "      <td>P10210</td>\n",
              "      <td>1847.0</td>\n",
              "      <td>eng</td>\n",
              "      <td>31212</td>\n",
              "      <td>20781.8</td>\n",
              "    </tr>\n",
              "    <tr>\n",
              "      <th>4</th>\n",
              "      <td>5452</td>\n",
              "      <td>P1025250</td>\n",
              "      <td>2000.0</td>\n",
              "      <td>en-US</td>\n",
              "      <td>2441</td>\n",
              "      <td>275870.5</td>\n",
              "    </tr>\n",
              "    <tr>\n",
              "      <th>...</th>\n",
              "      <td>...</td>\n",
              "      <td>...</td>\n",
              "      <td>...</td>\n",
              "      <td>...</td>\n",
              "      <td>...</td>\n",
              "      <td>...</td>\n",
              "    </tr>\n",
              "    <tr>\n",
              "      <th>14</th>\n",
              "      <td>8055</td>\n",
              "      <td>T11410104</td>\n",
              "      <td>NaN</td>\n",
              "      <td>NaN</td>\n",
              "      <td>NaN</td>\n",
              "      <td>308963.9</td>\n",
              "    </tr>\n",
              "    <tr>\n",
              "      <th>15</th>\n",
              "      <td>8477</td>\n",
              "      <td>U1034605</td>\n",
              "      <td>NaN</td>\n",
              "      <td>NaN</td>\n",
              "      <td>NaN</td>\n",
              "      <td>280243.83</td>\n",
              "    </tr>\n",
              "    <tr>\n",
              "      <th>16</th>\n",
              "      <td>8665</td>\n",
              "      <td>U1375</td>\n",
              "      <td>NaN</td>\n",
              "      <td>NaN</td>\n",
              "      <td>NaN</td>\n",
              "      <td>513049.99</td>\n",
              "    </tr>\n",
              "    <tr>\n",
              "      <th>17</th>\n",
              "      <td>9534</td>\n",
              "      <td>V197436</td>\n",
              "      <td>NaN</td>\n",
              "      <td>NaN</td>\n",
              "      <td>NaN</td>\n",
              "      <td>463858.84</td>\n",
              "    </tr>\n",
              "    <tr>\n",
              "      <th>18</th>\n",
              "      <td>9769</td>\n",
              "      <td>W94807</td>\n",
              "      <td>NaN</td>\n",
              "      <td>NaN</td>\n",
              "      <td>NaN</td>\n",
              "      <td>428389.03</td>\n",
              "    </tr>\n",
              "  </tbody>\n",
              "</table>\n",
              "<p>10000 rows × 6 columns</p>\n",
              "</div>"
            ],
            "text/plain": [
              "   song_id platform_id released_year language no.of_comments   label_id\n",
              "0     3753         P10        2005.0      eng            882        5.6\n",
              "1     9019      P10090        1999.0    en-US            178     3677.8\n",
              "2     7173     P102030        1935.0      eng            759    51773.3\n",
              "3       43      P10210        1847.0      eng          31212    20781.8\n",
              "4     5452    P1025250        2000.0    en-US           2441   275870.5\n",
              "..     ...         ...           ...      ...            ...        ...\n",
              "14    8055   T11410104           NaN      NaN            NaN   308963.9\n",
              "15    8477    U1034605           NaN      NaN            NaN  280243.83\n",
              "16    8665       U1375           NaN      NaN            NaN  513049.99\n",
              "17    9534     V197436           NaN      NaN            NaN  463858.84\n",
              "18    9769      W94807           NaN      NaN            NaN  428389.03\n",
              "\n",
              "[10000 rows x 6 columns]"
            ]
          },
          "metadata": {
            "tags": []
          },
          "execution_count": 80
        }
      ]
    },
    {
      "cell_type": "markdown",
      "metadata": {
        "id": "b6QMPZadyZKq"
      },
      "source": [
        "#3. **Filling missing rows in above dataset**"
      ]
    },
    {
      "cell_type": "code",
      "metadata": {
        "colab": {
          "base_uri": "https://localhost:8080/"
        },
        "id": "2T-sj90zQhcq",
        "outputId": "63bd5351-1ee5-471b-d2e9-d5ee9e1700bf"
      },
      "source": [
        "#First we will check the percent of missing values.\n",
        "#We can see that there are more than 10 percent.\n",
        "#As we are not willing to lose the data of these songs, we will impute the missing values.\n",
        "###### leaving out missing valued rows ###########\n",
        "D = concatenated_df.dropna() \n",
        "D.head(7)\n",
        "\n",
        "###### calculating percentage of data dropped #######\n",
        "length = len(concatenated_df['song_id'])\n",
        "length_new = len(D[\"song_id\"])\n",
        "per = (1 - length_new/length) *100\n",
        "print(\"Percent of data dropped is \",per)\n"
      ],
      "execution_count": null,
      "outputs": [
        {
          "output_type": "stream",
          "text": [
            "Percent of data dropped is  11.109999999999998\n"
          ],
          "name": "stdout"
        }
      ]
    },
    {
      "cell_type": "code",
      "metadata": {
        "id": "Mx6g0w_nWZxe",
        "colab": {
          "base_uri": "https://localhost:8080/"
        },
        "outputId": "8836fa0e-5152-4b6a-fcd2-1cf254ccddf2"
      },
      "source": [
        "#We will use ordinal encoder, because there is an order in the categorical variables.\n",
        "#This is used from inbuilt sklearn packages.\n",
        "#This will encode the categorical values into numerical features, but will leave the missing values as it is.\n",
        "#We use KNN imputer, which takes the effect of nearest k - datapoints and impute their weighted average.\n",
        "from sklearn.preprocessing import OrdinalEncoder\n",
        "from sklearn.impute import KNNImputer\n",
        "#instantiate both packages to use\n",
        "encoder = OrdinalEncoder()\n",
        "# create a list of categorical columns to iterate over\n",
        "cat_cols = ['platform_id', 'language']\n",
        "\n",
        "def encode(data):\n",
        "    '''function to encode non-null data and replace it in the original data'''\n",
        "    #retains only non-null values\n",
        "    nonulls = np.array(data.dropna())\n",
        "    #reshapes the data for encoding\n",
        "    impute_reshape = nonulls.reshape(-1,1)\n",
        "    #encode date\n",
        "    impute_ordinal = encoder.fit_transform(impute_reshape)\n",
        "    #Assign back encoded values to non-null values\n",
        "    data.loc[data.notnull()] = np.squeeze(impute_ordinal)\n",
        "    return data\n",
        "\n",
        "#create a for loop to iterate through each column in the data\n",
        "for columns in cat_cols:\n",
        "    encode(concatenated_df[columns])"
      ],
      "execution_count": null,
      "outputs": [
        {
          "output_type": "stream",
          "text": [
            "/usr/local/lib/python3.7/dist-packages/pandas/core/indexing.py:670: SettingWithCopyWarning: \n",
            "A value is trying to be set on a copy of a slice from a DataFrame\n",
            "\n",
            "See the caveats in the documentation: https://pandas.pydata.org/pandas-docs/stable/user_guide/indexing.html#returning-a-view-versus-a-copy\n",
            "  iloc._setitem_with_indexer(indexer, value)\n"
          ],
          "name": "stderr"
        }
      ]
    },
    {
      "cell_type": "code",
      "metadata": {
        "colab": {
          "base_uri": "https://localhost:8080/",
          "height": 415
        },
        "id": "w7XPFR_BTQH5",
        "outputId": "10eeb364-2307-4921-a0a3-fb5d56dd30c3"
      },
      "source": [
        "concatenated_df #This is the encoded data, with missing values."
      ],
      "execution_count": null,
      "outputs": [
        {
          "output_type": "execute_result",
          "data": {
            "text/html": [
              "<div>\n",
              "<style scoped>\n",
              "    .dataframe tbody tr th:only-of-type {\n",
              "        vertical-align: middle;\n",
              "    }\n",
              "\n",
              "    .dataframe tbody tr th {\n",
              "        vertical-align: top;\n",
              "    }\n",
              "\n",
              "    .dataframe thead th {\n",
              "        text-align: right;\n",
              "    }\n",
              "</style>\n",
              "<table border=\"1\" class=\"dataframe\">\n",
              "  <thead>\n",
              "    <tr style=\"text-align: right;\">\n",
              "      <th></th>\n",
              "      <th>song_id</th>\n",
              "      <th>platform_id</th>\n",
              "      <th>released_year</th>\n",
              "      <th>language</th>\n",
              "      <th>no.of_comments</th>\n",
              "      <th>label_id</th>\n",
              "    </tr>\n",
              "  </thead>\n",
              "  <tbody>\n",
              "    <tr>\n",
              "      <th>0</th>\n",
              "      <td>3753</td>\n",
              "      <td>0.0</td>\n",
              "      <td>2005.0</td>\n",
              "      <td>6</td>\n",
              "      <td>882</td>\n",
              "      <td>5.6</td>\n",
              "    </tr>\n",
              "    <tr>\n",
              "      <th>1</th>\n",
              "      <td>9019</td>\n",
              "      <td>1.0</td>\n",
              "      <td>1999.0</td>\n",
              "      <td>5</td>\n",
              "      <td>178</td>\n",
              "      <td>3677.8</td>\n",
              "    </tr>\n",
              "    <tr>\n",
              "      <th>2</th>\n",
              "      <td>7173</td>\n",
              "      <td>2.0</td>\n",
              "      <td>1935.0</td>\n",
              "      <td>6</td>\n",
              "      <td>759</td>\n",
              "      <td>51773.3</td>\n",
              "    </tr>\n",
              "    <tr>\n",
              "      <th>3</th>\n",
              "      <td>43</td>\n",
              "      <td>3.0</td>\n",
              "      <td>1847.0</td>\n",
              "      <td>6</td>\n",
              "      <td>31212</td>\n",
              "      <td>20781.8</td>\n",
              "    </tr>\n",
              "    <tr>\n",
              "      <th>4</th>\n",
              "      <td>5452</td>\n",
              "      <td>4.0</td>\n",
              "      <td>2000.0</td>\n",
              "      <td>5</td>\n",
              "      <td>2441</td>\n",
              "      <td>275870.5</td>\n",
              "    </tr>\n",
              "    <tr>\n",
              "      <th>...</th>\n",
              "      <td>...</td>\n",
              "      <td>...</td>\n",
              "      <td>...</td>\n",
              "      <td>...</td>\n",
              "      <td>...</td>\n",
              "      <td>...</td>\n",
              "    </tr>\n",
              "    <tr>\n",
              "      <th>14</th>\n",
              "      <td>8055</td>\n",
              "      <td>4038.0</td>\n",
              "      <td>NaN</td>\n",
              "      <td>NaN</td>\n",
              "      <td>NaN</td>\n",
              "      <td>308963.9</td>\n",
              "    </tr>\n",
              "    <tr>\n",
              "      <th>15</th>\n",
              "      <td>8477</td>\n",
              "      <td>5003.0</td>\n",
              "      <td>NaN</td>\n",
              "      <td>NaN</td>\n",
              "      <td>NaN</td>\n",
              "      <td>280243.83</td>\n",
              "    </tr>\n",
              "    <tr>\n",
              "      <th>16</th>\n",
              "      <td>8665</td>\n",
              "      <td>5145.0</td>\n",
              "      <td>NaN</td>\n",
              "      <td>NaN</td>\n",
              "      <td>NaN</td>\n",
              "      <td>513049.99</td>\n",
              "    </tr>\n",
              "    <tr>\n",
              "      <th>17</th>\n",
              "      <td>9534</td>\n",
              "      <td>6383.0</td>\n",
              "      <td>NaN</td>\n",
              "      <td>NaN</td>\n",
              "      <td>NaN</td>\n",
              "      <td>463858.84</td>\n",
              "    </tr>\n",
              "    <tr>\n",
              "      <th>18</th>\n",
              "      <td>9769</td>\n",
              "      <td>8004.0</td>\n",
              "      <td>NaN</td>\n",
              "      <td>NaN</td>\n",
              "      <td>NaN</td>\n",
              "      <td>428389.03</td>\n",
              "    </tr>\n",
              "  </tbody>\n",
              "</table>\n",
              "<p>10000 rows × 6 columns</p>\n",
              "</div>"
            ],
            "text/plain": [
              "   song_id  platform_id released_year language no.of_comments   label_id\n",
              "0     3753          0.0        2005.0        6            882        5.6\n",
              "1     9019          1.0        1999.0        5            178     3677.8\n",
              "2     7173          2.0        1935.0        6            759    51773.3\n",
              "3       43          3.0        1847.0        6          31212    20781.8\n",
              "4     5452          4.0        2000.0        5           2441   275870.5\n",
              "..     ...          ...           ...      ...            ...        ...\n",
              "14    8055       4038.0           NaN      NaN            NaN   308963.9\n",
              "15    8477       5003.0           NaN      NaN            NaN  280243.83\n",
              "16    8665       5145.0           NaN      NaN            NaN  513049.99\n",
              "17    9534       6383.0           NaN      NaN            NaN  463858.84\n",
              "18    9769       8004.0           NaN      NaN            NaN  428389.03\n",
              "\n",
              "[10000 rows x 6 columns]"
            ]
          },
          "metadata": {
            "tags": []
          },
          "execution_count": 83
        }
      ]
    },
    {
      "cell_type": "code",
      "metadata": {
        "id": "bx4NrmwKVbgs"
      },
      "source": [
        "#Now, we will impute missing values, using knn imputer, as said above.\n",
        "imputer = KNNImputer(n_neighbors=1000, weights= 'distance')\n",
        "concatenated_df_imputed = imputer.fit_transform(concatenated_df) #This has fully imputed data of song features.\n",
        "#This is in form of an array. It must be converted to dataframe."
      ],
      "execution_count": null,
      "outputs": []
    },
    {
      "cell_type": "code",
      "metadata": {
        "colab": {
          "base_uri": "https://localhost:8080/",
          "height": 415
        },
        "id": "e2B8-KiHV7c3",
        "outputId": "0dfa10e3-518f-4944-ae94-c4b394f416a8"
      },
      "source": [
        "song_features_not_sorted = pd.DataFrame(concatenated_df_imputed)\n",
        "song_features_not_sorted.rename(columns = {0: 'song_id', 1:'platform_id', 2:'released_year', 3:'language',4:'no.of_comments',5:'label_id' }, inplace = True)\n",
        "song_features_not_sorted #This has song features imputed, as a dataframe."
      ],
      "execution_count": null,
      "outputs": [
        {
          "output_type": "execute_result",
          "data": {
            "text/html": [
              "<div>\n",
              "<style scoped>\n",
              "    .dataframe tbody tr th:only-of-type {\n",
              "        vertical-align: middle;\n",
              "    }\n",
              "\n",
              "    .dataframe tbody tr th {\n",
              "        vertical-align: top;\n",
              "    }\n",
              "\n",
              "    .dataframe thead th {\n",
              "        text-align: right;\n",
              "    }\n",
              "</style>\n",
              "<table border=\"1\" class=\"dataframe\">\n",
              "  <thead>\n",
              "    <tr style=\"text-align: right;\">\n",
              "      <th></th>\n",
              "      <th>song_id</th>\n",
              "      <th>platform_id</th>\n",
              "      <th>released_year</th>\n",
              "      <th>language</th>\n",
              "      <th>no.of_comments</th>\n",
              "      <th>label_id</th>\n",
              "    </tr>\n",
              "  </thead>\n",
              "  <tbody>\n",
              "    <tr>\n",
              "      <th>0</th>\n",
              "      <td>3753.0</td>\n",
              "      <td>0.0</td>\n",
              "      <td>2005.000000</td>\n",
              "      <td>6.000000</td>\n",
              "      <td>882.000000</td>\n",
              "      <td>5.60</td>\n",
              "    </tr>\n",
              "    <tr>\n",
              "      <th>1</th>\n",
              "      <td>9019.0</td>\n",
              "      <td>1.0</td>\n",
              "      <td>1999.000000</td>\n",
              "      <td>5.000000</td>\n",
              "      <td>178.000000</td>\n",
              "      <td>3677.80</td>\n",
              "    </tr>\n",
              "    <tr>\n",
              "      <th>2</th>\n",
              "      <td>7173.0</td>\n",
              "      <td>2.0</td>\n",
              "      <td>1935.000000</td>\n",
              "      <td>6.000000</td>\n",
              "      <td>759.000000</td>\n",
              "      <td>51773.30</td>\n",
              "    </tr>\n",
              "    <tr>\n",
              "      <th>3</th>\n",
              "      <td>43.0</td>\n",
              "      <td>3.0</td>\n",
              "      <td>1847.000000</td>\n",
              "      <td>6.000000</td>\n",
              "      <td>31212.000000</td>\n",
              "      <td>20781.80</td>\n",
              "    </tr>\n",
              "    <tr>\n",
              "      <th>4</th>\n",
              "      <td>5452.0</td>\n",
              "      <td>4.0</td>\n",
              "      <td>2000.000000</td>\n",
              "      <td>5.000000</td>\n",
              "      <td>2441.000000</td>\n",
              "      <td>275870.50</td>\n",
              "    </tr>\n",
              "    <tr>\n",
              "      <th>...</th>\n",
              "      <td>...</td>\n",
              "      <td>...</td>\n",
              "      <td>...</td>\n",
              "      <td>...</td>\n",
              "      <td>...</td>\n",
              "      <td>...</td>\n",
              "    </tr>\n",
              "    <tr>\n",
              "      <th>9995</th>\n",
              "      <td>8055.0</td>\n",
              "      <td>4038.0</td>\n",
              "      <td>1975.227709</td>\n",
              "      <td>5.971204</td>\n",
              "      <td>806.955559</td>\n",
              "      <td>308963.90</td>\n",
              "    </tr>\n",
              "    <tr>\n",
              "      <th>9996</th>\n",
              "      <td>8477.0</td>\n",
              "      <td>5003.0</td>\n",
              "      <td>1970.994758</td>\n",
              "      <td>5.961104</td>\n",
              "      <td>848.666886</td>\n",
              "      <td>280243.83</td>\n",
              "    </tr>\n",
              "    <tr>\n",
              "      <th>9997</th>\n",
              "      <td>8665.0</td>\n",
              "      <td>5145.0</td>\n",
              "      <td>1978.116370</td>\n",
              "      <td>6.030922</td>\n",
              "      <td>1108.225227</td>\n",
              "      <td>513049.99</td>\n",
              "    </tr>\n",
              "    <tr>\n",
              "      <th>9998</th>\n",
              "      <td>9534.0</td>\n",
              "      <td>6383.0</td>\n",
              "      <td>1957.222015</td>\n",
              "      <td>5.824262</td>\n",
              "      <td>1013.893743</td>\n",
              "      <td>463858.84</td>\n",
              "    </tr>\n",
              "    <tr>\n",
              "      <th>9999</th>\n",
              "      <td>9769.0</td>\n",
              "      <td>8004.0</td>\n",
              "      <td>1953.190718</td>\n",
              "      <td>5.829788</td>\n",
              "      <td>958.551289</td>\n",
              "      <td>428389.03</td>\n",
              "    </tr>\n",
              "  </tbody>\n",
              "</table>\n",
              "<p>10000 rows × 6 columns</p>\n",
              "</div>"
            ],
            "text/plain": [
              "      song_id  platform_id  released_year  language  no.of_comments   label_id\n",
              "0      3753.0          0.0    2005.000000  6.000000      882.000000       5.60\n",
              "1      9019.0          1.0    1999.000000  5.000000      178.000000    3677.80\n",
              "2      7173.0          2.0    1935.000000  6.000000      759.000000   51773.30\n",
              "3        43.0          3.0    1847.000000  6.000000    31212.000000   20781.80\n",
              "4      5452.0          4.0    2000.000000  5.000000     2441.000000  275870.50\n",
              "...       ...          ...            ...       ...             ...        ...\n",
              "9995   8055.0       4038.0    1975.227709  5.971204      806.955559  308963.90\n",
              "9996   8477.0       5003.0    1970.994758  5.961104      848.666886  280243.83\n",
              "9997   8665.0       5145.0    1978.116370  6.030922     1108.225227  513049.99\n",
              "9998   9534.0       6383.0    1957.222015  5.824262     1013.893743  463858.84\n",
              "9999   9769.0       8004.0    1953.190718  5.829788      958.551289  428389.03\n",
              "\n",
              "[10000 rows x 6 columns]"
            ]
          },
          "metadata": {
            "tags": []
          },
          "execution_count": 85
        }
      ]
    },
    {
      "cell_type": "code",
      "metadata": {
        "colab": {
          "base_uri": "https://localhost:8080/",
          "height": 415
        },
        "id": "WzuGS4H1YJaV",
        "outputId": "bab958b5-37ef-48df-c540-d725f2c6b273"
      },
      "source": [
        "song_features = sortdf(song_features_not_sorted, 0)\n",
        "song_features #This is a dataframe wit hsong features, fully imputed, sorted as per song_id."
      ],
      "execution_count": null,
      "outputs": [
        {
          "output_type": "execute_result",
          "data": {
            "text/html": [
              "<div>\n",
              "<style scoped>\n",
              "    .dataframe tbody tr th:only-of-type {\n",
              "        vertical-align: middle;\n",
              "    }\n",
              "\n",
              "    .dataframe tbody tr th {\n",
              "        vertical-align: top;\n",
              "    }\n",
              "\n",
              "    .dataframe thead th {\n",
              "        text-align: right;\n",
              "    }\n",
              "</style>\n",
              "<table border=\"1\" class=\"dataframe\">\n",
              "  <thead>\n",
              "    <tr style=\"text-align: right;\">\n",
              "      <th></th>\n",
              "      <th>song_id</th>\n",
              "      <th>platform_id</th>\n",
              "      <th>released_year</th>\n",
              "      <th>language</th>\n",
              "      <th>no.of_comments</th>\n",
              "      <th>label_id</th>\n",
              "    </tr>\n",
              "  </thead>\n",
              "  <tbody>\n",
              "    <tr>\n",
              "      <th>0</th>\n",
              "      <td>1.0</td>\n",
              "      <td>2481.0</td>\n",
              "      <td>2008.0</td>\n",
              "      <td>6.000000</td>\n",
              "      <td>155254.0</td>\n",
              "      <td>9267070.80</td>\n",
              "    </tr>\n",
              "    <tr>\n",
              "      <th>1</th>\n",
              "      <td>2.0</td>\n",
              "      <td>3505.0</td>\n",
              "      <td>1997.0</td>\n",
              "      <td>6.000000</td>\n",
              "      <td>75867.0</td>\n",
              "      <td>2187458.10</td>\n",
              "    </tr>\n",
              "    <tr>\n",
              "      <th>2</th>\n",
              "      <td>3.0</td>\n",
              "      <td>5633.0</td>\n",
              "      <td>2005.0</td>\n",
              "      <td>5.000000</td>\n",
              "      <td>95009.0</td>\n",
              "      <td>8099955.90</td>\n",
              "    </tr>\n",
              "    <tr>\n",
              "      <th>3</th>\n",
              "      <td>4.0</td>\n",
              "      <td>7499.0</td>\n",
              "      <td>1960.0</td>\n",
              "      <td>6.000000</td>\n",
              "      <td>72586.0</td>\n",
              "      <td>2800147.10</td>\n",
              "    </tr>\n",
              "    <tr>\n",
              "      <th>4</th>\n",
              "      <td>5.0</td>\n",
              "      <td>1688.0</td>\n",
              "      <td>1925.0</td>\n",
              "      <td>6.000000</td>\n",
              "      <td>51992.0</td>\n",
              "      <td>6650830.80</td>\n",
              "    </tr>\n",
              "    <tr>\n",
              "      <th>...</th>\n",
              "      <td>...</td>\n",
              "      <td>...</td>\n",
              "      <td>...</td>\n",
              "      <td>...</td>\n",
              "      <td>...</td>\n",
              "      <td>...</td>\n",
              "    </tr>\n",
              "    <tr>\n",
              "      <th>9995</th>\n",
              "      <td>9996.0</td>\n",
              "      <td>6864.0</td>\n",
              "      <td>2010.0</td>\n",
              "      <td>6.000000</td>\n",
              "      <td>1180.0</td>\n",
              "      <td>1847961.40</td>\n",
              "    </tr>\n",
              "    <tr>\n",
              "      <th>9996</th>\n",
              "      <td>9997.0</td>\n",
              "      <td>4333.0</td>\n",
              "      <td>1990.0</td>\n",
              "      <td>6.000000</td>\n",
              "      <td>395.0</td>\n",
              "      <td>1056549.20</td>\n",
              "    </tr>\n",
              "    <tr>\n",
              "      <th>9997</th>\n",
              "      <td>9998.0</td>\n",
              "      <td>1883.0</td>\n",
              "      <td>1977.0</td>\n",
              "      <td>6.000000</td>\n",
              "      <td>374.0</td>\n",
              "      <td>861782.86</td>\n",
              "    </tr>\n",
              "    <tr>\n",
              "      <th>9998</th>\n",
              "      <td>9999.0</td>\n",
              "      <td>3905.0</td>\n",
              "      <td>2011.0</td>\n",
              "      <td>6.000000</td>\n",
              "      <td>1988.0</td>\n",
              "      <td>7323064.50</td>\n",
              "    </tr>\n",
              "    <tr>\n",
              "      <th>9999</th>\n",
              "      <td>10000.0</td>\n",
              "      <td>4929.0</td>\n",
              "      <td>1998.0</td>\n",
              "      <td>5.599004</td>\n",
              "      <td>364.0</td>\n",
              "      <td>4632547.60</td>\n",
              "    </tr>\n",
              "  </tbody>\n",
              "</table>\n",
              "<p>10000 rows × 6 columns</p>\n",
              "</div>"
            ],
            "text/plain": [
              "      song_id  platform_id  released_year  language  no.of_comments    label_id\n",
              "0         1.0       2481.0         2008.0  6.000000        155254.0  9267070.80\n",
              "1         2.0       3505.0         1997.0  6.000000         75867.0  2187458.10\n",
              "2         3.0       5633.0         2005.0  5.000000         95009.0  8099955.90\n",
              "3         4.0       7499.0         1960.0  6.000000         72586.0  2800147.10\n",
              "4         5.0       1688.0         1925.0  6.000000         51992.0  6650830.80\n",
              "...       ...          ...            ...       ...             ...         ...\n",
              "9995   9996.0       6864.0         2010.0  6.000000          1180.0  1847961.40\n",
              "9996   9997.0       4333.0         1990.0  6.000000           395.0  1056549.20\n",
              "9997   9998.0       1883.0         1977.0  6.000000           374.0   861782.86\n",
              "9998   9999.0       3905.0         2011.0  6.000000          1988.0  7323064.50\n",
              "9999  10000.0       4929.0         1998.0  5.599004           364.0  4632547.60\n",
              "\n",
              "[10000 rows x 6 columns]"
            ]
          },
          "metadata": {
            "tags": []
          },
          "execution_count": 86
        }
      ]
    },
    {
      "cell_type": "markdown",
      "metadata": {
        "id": "OkYYpLzNzsIU"
      },
      "source": [
        "#4. **Standardising Data**"
      ]
    },
    {
      "cell_type": "code",
      "metadata": {
        "colab": {
          "base_uri": "https://localhost:8080/",
          "height": 415
        },
        "id": "6LGmSJkychCU",
        "outputId": "a6c05eed-4b1d-4e18-c4bd-ce444738fda2"
      },
      "source": [
        "#X_standard is standardised dataframe\n",
        "#We will not standardise song_id, as it is merely an indicator.\n",
        "numerical_columns= ['released_year','no.of_comments', 'label_id','platform_id','language']\n",
        "categorical_columns =['song_id']\n",
        "\n",
        "X_standard =pd.DataFrame([])\n",
        "\n",
        "################## Standarizing values only for numerical columns################\n",
        "from sklearn.preprocessing import StandardScaler\n",
        "\n",
        "X_standard[numerical_columns] =pd.DataFrame(StandardScaler().fit_transform(song_features[numerical_columns]))\n",
        "\n",
        "################## combining categorical columns ################\n",
        "X_standard[categorical_columns]=song_features[categorical_columns]\n",
        "X_standard "
      ],
      "execution_count": null,
      "outputs": [
        {
          "output_type": "execute_result",
          "data": {
            "text/html": [
              "<div>\n",
              "<style scoped>\n",
              "    .dataframe tbody tr th:only-of-type {\n",
              "        vertical-align: middle;\n",
              "    }\n",
              "\n",
              "    .dataframe tbody tr th {\n",
              "        vertical-align: top;\n",
              "    }\n",
              "\n",
              "    .dataframe thead th {\n",
              "        text-align: right;\n",
              "    }\n",
              "</style>\n",
              "<table border=\"1\" class=\"dataframe\">\n",
              "  <thead>\n",
              "    <tr style=\"text-align: right;\">\n",
              "      <th></th>\n",
              "      <th>released_year</th>\n",
              "      <th>no.of_comments</th>\n",
              "      <th>label_id</th>\n",
              "      <th>platform_id</th>\n",
              "      <th>language</th>\n",
              "      <th>song_id</th>\n",
              "    </tr>\n",
              "  </thead>\n",
              "  <tbody>\n",
              "    <tr>\n",
              "      <th>0</th>\n",
              "      <td>0.171803</td>\n",
              "      <td>24.875979</td>\n",
              "      <td>2.957586</td>\n",
              "      <td>-0.872434</td>\n",
              "      <td>0.213034</td>\n",
              "      <td>1.0</td>\n",
              "    </tr>\n",
              "    <tr>\n",
              "      <th>1</th>\n",
              "      <td>0.098426</td>\n",
              "      <td>11.911939</td>\n",
              "      <td>-0.261011</td>\n",
              "      <td>-0.517710</td>\n",
              "      <td>0.213034</td>\n",
              "      <td>2.0</td>\n",
              "    </tr>\n",
              "    <tr>\n",
              "      <th>2</th>\n",
              "      <td>0.151791</td>\n",
              "      <td>15.037862</td>\n",
              "      <td>2.426982</td>\n",
              "      <td>0.219451</td>\n",
              "      <td>-0.611240</td>\n",
              "      <td>3.0</td>\n",
              "    </tr>\n",
              "    <tr>\n",
              "      <th>3</th>\n",
              "      <td>-0.148385</td>\n",
              "      <td>11.376145</td>\n",
              "      <td>0.017536</td>\n",
              "      <td>0.865852</td>\n",
              "      <td>0.213034</td>\n",
              "      <td>4.0</td>\n",
              "    </tr>\n",
              "    <tr>\n",
              "      <th>4</th>\n",
              "      <td>-0.381855</td>\n",
              "      <td>8.013108</td>\n",
              "      <td>1.768168</td>\n",
              "      <td>-1.147137</td>\n",
              "      <td>0.213034</td>\n",
              "      <td>5.0</td>\n",
              "    </tr>\n",
              "    <tr>\n",
              "      <th>...</th>\n",
              "      <td>...</td>\n",
              "      <td>...</td>\n",
              "      <td>...</td>\n",
              "      <td>...</td>\n",
              "      <td>...</td>\n",
              "      <td>...</td>\n",
              "    </tr>\n",
              "    <tr>\n",
              "      <th>9995</th>\n",
              "      <td>0.185144</td>\n",
              "      <td>-0.284583</td>\n",
              "      <td>-0.415356</td>\n",
              "      <td>0.645882</td>\n",
              "      <td>0.213034</td>\n",
              "      <td>9996.0</td>\n",
              "    </tr>\n",
              "    <tr>\n",
              "      <th>9996</th>\n",
              "      <td>0.051732</td>\n",
              "      <td>-0.412775</td>\n",
              "      <td>-0.775154</td>\n",
              "      <td>-0.230882</td>\n",
              "      <td>0.213034</td>\n",
              "      <td>9997.0</td>\n",
              "    </tr>\n",
              "    <tr>\n",
              "      <th>9997</th>\n",
              "      <td>-0.034985</td>\n",
              "      <td>-0.416205</td>\n",
              "      <td>-0.863701</td>\n",
              "      <td>-1.079587</td>\n",
              "      <td>0.213034</td>\n",
              "      <td>9998.0</td>\n",
              "    </tr>\n",
              "    <tr>\n",
              "      <th>9998</th>\n",
              "      <td>0.191814</td>\n",
              "      <td>-0.152635</td>\n",
              "      <td>2.073784</td>\n",
              "      <td>-0.379146</td>\n",
              "      <td>0.213034</td>\n",
              "      <td>9999.0</td>\n",
              "    </tr>\n",
              "    <tr>\n",
              "      <th>9999</th>\n",
              "      <td>0.105097</td>\n",
              "      <td>-0.417838</td>\n",
              "      <td>0.850598</td>\n",
              "      <td>-0.024422</td>\n",
              "      <td>-0.117497</td>\n",
              "      <td>10000.0</td>\n",
              "    </tr>\n",
              "  </tbody>\n",
              "</table>\n",
              "<p>10000 rows × 6 columns</p>\n",
              "</div>"
            ],
            "text/plain": [
              "      released_year  no.of_comments  label_id  platform_id  language  song_id\n",
              "0          0.171803       24.875979  2.957586    -0.872434  0.213034      1.0\n",
              "1          0.098426       11.911939 -0.261011    -0.517710  0.213034      2.0\n",
              "2          0.151791       15.037862  2.426982     0.219451 -0.611240      3.0\n",
              "3         -0.148385       11.376145  0.017536     0.865852  0.213034      4.0\n",
              "4         -0.381855        8.013108  1.768168    -1.147137  0.213034      5.0\n",
              "...             ...             ...       ...          ...       ...      ...\n",
              "9995       0.185144       -0.284583 -0.415356     0.645882  0.213034   9996.0\n",
              "9996       0.051732       -0.412775 -0.775154    -0.230882  0.213034   9997.0\n",
              "9997      -0.034985       -0.416205 -0.863701    -1.079587  0.213034   9998.0\n",
              "9998       0.191814       -0.152635  2.073784    -0.379146  0.213034   9999.0\n",
              "9999       0.105097       -0.417838  0.850598    -0.024422 -0.117497  10000.0\n",
              "\n",
              "[10000 rows x 6 columns]"
            ]
          },
          "metadata": {
            "tags": []
          },
          "execution_count": 87
        }
      ]
    },
    {
      "cell_type": "markdown",
      "metadata": {
        "id": "xu6z-Pzvb3BR"
      },
      "source": [
        "# 5. **Training code**"
      ]
    },
    {
      "cell_type": "code",
      "metadata": {
        "id": "ci7WHh55cPTl"
      },
      "source": [
        "#we will consider customer based filtering first. In this, we train separate models for individual customers based on their rated songs.\n",
        "#d_c is a dictionary with keys as customer_id's and values as the list of tuples of (song_id, customer_score) from train data.\n",
        "#It has 14053 keys.\n",
        "d_c = {}\n",
        "\n",
        "customer_set = set(train_data['customer_id'])\n",
        "\n",
        "# There are 14053 customer_ids in the above set\n",
        "\n",
        "for i in customer_set :\n",
        "  d_c[i] = []\n",
        "\n",
        "arr_t = np.array(train_data)\n",
        "sz_t = np.shape(arr_t)[0]\n",
        "\n",
        "for i in range(0, sz_t):\n",
        "  d_c[arr_t[i][0]].append((arr_t[i][1], arr_t[i][2]))"
      ],
      "execution_count": null,
      "outputs": []
    },
    {
      "cell_type": "code",
      "metadata": {
        "colab": {
          "base_uri": "https://localhost:8080/",
          "height": 415
        },
        "id": "waAuUtxXcdWb",
        "outputId": "db6aa8e3-bbc3-4c2b-f05c-e8869d9e05c5"
      },
      "source": [
        "#Reordering the columns of X_standard for ease.\n",
        "X_standard = X_standard[['song_id', 'released_year', 'no.of_comments', 'label_id', 'platform_id', 'language']]\n",
        "X_standard\n",
        "#Creating a copy of X_standard for further analysis.\n",
        "song_features_svm = X_standard.copy()\n",
        "song_features_svm #copy of X_standard"
      ],
      "execution_count": null,
      "outputs": [
        {
          "output_type": "execute_result",
          "data": {
            "text/html": [
              "<div>\n",
              "<style scoped>\n",
              "    .dataframe tbody tr th:only-of-type {\n",
              "        vertical-align: middle;\n",
              "    }\n",
              "\n",
              "    .dataframe tbody tr th {\n",
              "        vertical-align: top;\n",
              "    }\n",
              "\n",
              "    .dataframe thead th {\n",
              "        text-align: right;\n",
              "    }\n",
              "</style>\n",
              "<table border=\"1\" class=\"dataframe\">\n",
              "  <thead>\n",
              "    <tr style=\"text-align: right;\">\n",
              "      <th></th>\n",
              "      <th>song_id</th>\n",
              "      <th>released_year</th>\n",
              "      <th>no.of_comments</th>\n",
              "      <th>label_id</th>\n",
              "      <th>platform_id</th>\n",
              "      <th>language</th>\n",
              "    </tr>\n",
              "  </thead>\n",
              "  <tbody>\n",
              "    <tr>\n",
              "      <th>0</th>\n",
              "      <td>1.0</td>\n",
              "      <td>0.171803</td>\n",
              "      <td>24.875979</td>\n",
              "      <td>2.957586</td>\n",
              "      <td>-0.872434</td>\n",
              "      <td>0.213034</td>\n",
              "    </tr>\n",
              "    <tr>\n",
              "      <th>1</th>\n",
              "      <td>2.0</td>\n",
              "      <td>0.098426</td>\n",
              "      <td>11.911939</td>\n",
              "      <td>-0.261011</td>\n",
              "      <td>-0.517710</td>\n",
              "      <td>0.213034</td>\n",
              "    </tr>\n",
              "    <tr>\n",
              "      <th>2</th>\n",
              "      <td>3.0</td>\n",
              "      <td>0.151791</td>\n",
              "      <td>15.037862</td>\n",
              "      <td>2.426982</td>\n",
              "      <td>0.219451</td>\n",
              "      <td>-0.611240</td>\n",
              "    </tr>\n",
              "    <tr>\n",
              "      <th>3</th>\n",
              "      <td>4.0</td>\n",
              "      <td>-0.148385</td>\n",
              "      <td>11.376145</td>\n",
              "      <td>0.017536</td>\n",
              "      <td>0.865852</td>\n",
              "      <td>0.213034</td>\n",
              "    </tr>\n",
              "    <tr>\n",
              "      <th>4</th>\n",
              "      <td>5.0</td>\n",
              "      <td>-0.381855</td>\n",
              "      <td>8.013108</td>\n",
              "      <td>1.768168</td>\n",
              "      <td>-1.147137</td>\n",
              "      <td>0.213034</td>\n",
              "    </tr>\n",
              "    <tr>\n",
              "      <th>...</th>\n",
              "      <td>...</td>\n",
              "      <td>...</td>\n",
              "      <td>...</td>\n",
              "      <td>...</td>\n",
              "      <td>...</td>\n",
              "      <td>...</td>\n",
              "    </tr>\n",
              "    <tr>\n",
              "      <th>9995</th>\n",
              "      <td>9996.0</td>\n",
              "      <td>0.185144</td>\n",
              "      <td>-0.284583</td>\n",
              "      <td>-0.415356</td>\n",
              "      <td>0.645882</td>\n",
              "      <td>0.213034</td>\n",
              "    </tr>\n",
              "    <tr>\n",
              "      <th>9996</th>\n",
              "      <td>9997.0</td>\n",
              "      <td>0.051732</td>\n",
              "      <td>-0.412775</td>\n",
              "      <td>-0.775154</td>\n",
              "      <td>-0.230882</td>\n",
              "      <td>0.213034</td>\n",
              "    </tr>\n",
              "    <tr>\n",
              "      <th>9997</th>\n",
              "      <td>9998.0</td>\n",
              "      <td>-0.034985</td>\n",
              "      <td>-0.416205</td>\n",
              "      <td>-0.863701</td>\n",
              "      <td>-1.079587</td>\n",
              "      <td>0.213034</td>\n",
              "    </tr>\n",
              "    <tr>\n",
              "      <th>9998</th>\n",
              "      <td>9999.0</td>\n",
              "      <td>0.191814</td>\n",
              "      <td>-0.152635</td>\n",
              "      <td>2.073784</td>\n",
              "      <td>-0.379146</td>\n",
              "      <td>0.213034</td>\n",
              "    </tr>\n",
              "    <tr>\n",
              "      <th>9999</th>\n",
              "      <td>10000.0</td>\n",
              "      <td>0.105097</td>\n",
              "      <td>-0.417838</td>\n",
              "      <td>0.850598</td>\n",
              "      <td>-0.024422</td>\n",
              "      <td>-0.117497</td>\n",
              "    </tr>\n",
              "  </tbody>\n",
              "</table>\n",
              "<p>10000 rows × 6 columns</p>\n",
              "</div>"
            ],
            "text/plain": [
              "      song_id  released_year  no.of_comments  label_id  platform_id  language\n",
              "0         1.0       0.171803       24.875979  2.957586    -0.872434  0.213034\n",
              "1         2.0       0.098426       11.911939 -0.261011    -0.517710  0.213034\n",
              "2         3.0       0.151791       15.037862  2.426982     0.219451 -0.611240\n",
              "3         4.0      -0.148385       11.376145  0.017536     0.865852  0.213034\n",
              "4         5.0      -0.381855        8.013108  1.768168    -1.147137  0.213034\n",
              "...       ...            ...             ...       ...          ...       ...\n",
              "9995   9996.0       0.185144       -0.284583 -0.415356     0.645882  0.213034\n",
              "9996   9997.0       0.051732       -0.412775 -0.775154    -0.230882  0.213034\n",
              "9997   9998.0      -0.034985       -0.416205 -0.863701    -1.079587  0.213034\n",
              "9998   9999.0       0.191814       -0.152635  2.073784    -0.379146  0.213034\n",
              "9999  10000.0       0.105097       -0.417838  0.850598    -0.024422 -0.117497\n",
              "\n",
              "[10000 rows x 6 columns]"
            ]
          },
          "metadata": {
            "tags": []
          },
          "execution_count": 89
        }
      ]
    },
    {
      "cell_type": "code",
      "metadata": {
        "id": "pbq6SADFcE7f"
      },
      "source": [
        "#We write below a function svm_f1, that takes song_id as int and gives its features from song_features_svm \n",
        "#This gives features of a song \n",
        "def svm_f1(song_id) :\n",
        "  i = int(float(song_id)-1)\n",
        "  res = [float(song_features_svm['released_year'][i]), float(song_features_svm['no.of_comments'][i]), float(song_features_svm['label_id'][i]), song_features_svm['platform_id'][i], song_features_svm['language'][i]]\n",
        "  return res"
      ],
      "execution_count": null,
      "outputs": []
    },
    {
      "cell_type": "code",
      "metadata": {
        "id": "irQi5hDHb-lI"
      },
      "source": [
        "#Now, we will construct a personalised train dataset for each customer. \n",
        "#For every one of 14053 customers, we have 6 features.\n",
        "#They are the song_id, platform_id, label_id, released_year, language, no.of.comments.\n",
        "#\"score\" is the target.\n",
        "#This function gives a dataframe, given a customer_id. \n",
        "\n",
        "\n",
        "def dataset(customer_id):\n",
        "  D_c = {}\n",
        "\n",
        "  D_c['released_year'] = []\n",
        "  D_c['no.of_comments'] = []\n",
        "  D_c['platform_id'] = []\n",
        "  D_c['label_id'] = []\n",
        "  D_c['language'] = []\n",
        "  D_c['score'] = []\n",
        "\n",
        "  v = d_c[customer_id]\n",
        "  for i in v:\n",
        "\n",
        "      song_feat = svm_f1(int(i[0]))\n",
        "      D_c['released_year'].append(float(song_feat[0]))\n",
        "      D_c['no.of_comments'].append(float(song_feat[1]))\n",
        "      D_c['label_id'].append(float(song_feat[2]))\n",
        "      D_c['platform_id'].append(str(song_feat[3]))\n",
        "      D_c['language'].append(str(song_feat[4]))\n",
        "      D_c['score'].append(float(i[1]))\n",
        "\n",
        "  X_c = pd.DataFrame(D_c)\n",
        "  return X_c"
      ],
      "execution_count": null,
      "outputs": []
    },
    {
      "cell_type": "code",
      "metadata": {
        "id": "vjYLiuRGk8DB"
      },
      "source": [
        "#For once and all, all the training datasets of 14053 customers are pulled out from train_data and \n",
        "#stored into this dictionary(matrix_customer), with keys as customer_id's and values as the datasets (pd.Dataframes)\n",
        "#This is done to reduce time complexity for later use.\n",
        "matrix_customer = {}\n",
        "for j in d_c:\n",
        "  matrix_customer[j] = dataset(j)"
      ],
      "execution_count": null,
      "outputs": []
    },
    {
      "cell_type": "code",
      "metadata": {
        "colab": {
          "base_uri": "https://localhost:8080/"
        },
        "id": "HHa0z9fvoS0L",
        "outputId": "25ed8242-089e-4c30-cdd7-cf718a8f56df"
      },
      "source": [
        "#similar to training data, we now pull the data from test set also, corresponding to a customer.\n",
        "#This is done using a similar approach, in a dict d_test.\n",
        "#We use this to make personalised predictions.\n",
        "d_test = {}\n",
        "\n",
        "customer_set_test = set(test['customer_id'])\n",
        "print(len(customer_set_test))\n",
        "\n",
        "for i in customer_set_test :\n",
        "  d_test[i] = []\n",
        "\n",
        "arr_t = np.array(test)\n",
        "sz_t = np.shape(arr_t)[0]\n",
        "\n",
        "for i in range(0, sz_t):\n",
        "  d_test[arr_t[i][1]].append((arr_t[i][0], arr_t[i][2], arr_t[i][3]))"
      ],
      "execution_count": null,
      "outputs": [
        {
          "output_type": "stream",
          "text": [
            "14053\n"
          ],
          "name": "stdout"
        }
      ]
    },
    {
      "cell_type": "code",
      "metadata": {
        "id": "IRLbKYmNpzLp"
      },
      "source": [
        "#Now, we will construct a personalised test dataset for each customer. \n",
        "#They are the song_id, platform_id, label_id, released_year, language, no.of.comments\n",
        "#Score is filled with np.nans. THis is done for later ease.\n",
        "#These datasets are used to make personalised predictions.\n",
        "\n",
        "\n",
        "def dataset_for_test(customer_id):\n",
        "  D_c = {}\n",
        "  # D_c['song_id'] = []\n",
        "  D_c['released_year'] = []\n",
        "  D_c['no.of_comments'] = []\n",
        "  D_c['platform_id'] = []\n",
        "  D_c['label_id'] = []\n",
        "  D_c['language'] = []\n",
        "  D_c['score'] = []\n",
        "  D_c['test_row_id'] = []\n",
        "  # flag = 0\n",
        "  # if pr[customer_id]:\n",
        "  #   flag = 1\n",
        "  #   D_c['saving_probability'] = []\n",
        "  v = d_test[customer_id]\n",
        "  for i in v:\n",
        "      # D_c['song_id'].append(float(i[0]))\n",
        "      song_feat = svm_f1(int(i[1]))\n",
        "      D_c['released_year'].append(float(song_feat[0]))\n",
        "      D_c['no.of_comments'].append(float(song_feat[1]))\n",
        "      D_c['label_id'].append(float(song_feat[2]))\n",
        "      D_c['platform_id'].append(str(song_feat[3]))\n",
        "      D_c['language'].append(str(song_feat[4]))\n",
        "      D_c['score'].append(i[2])\n",
        "      D_c['test_row_id'].append(i[0]) \n",
        "\n",
        "      # if flag == 1:\n",
        "      #   cluster = song_features_svm['cluster_code'][int(i[0])-1]\n",
        "      #   D_c['saving_probability'].append(customer_saving_prob[customer_id][cluster])\n",
        "  X_c = pd.DataFrame(D_c)\n",
        "  return X_c"
      ],
      "execution_count": null,
      "outputs": []
    },
    {
      "cell_type": "code",
      "metadata": {
        "id": "FA5y-8QBr6Fu"
      },
      "source": [
        "#For once and all, all the training datasets of 14053 customers are pulled out from train_data and \n",
        "#stored into this dictionary, with keys as customer_id's and values as the datasets (pd.Dataframes)\n",
        "matrix_customer_test = {}\n",
        "for j in d_test:\n",
        "  matrix_customer_test[j] = dataset_for_test(j)"
      ],
      "execution_count": null,
      "outputs": []
    },
    {
      "cell_type": "code",
      "metadata": {
        "colab": {
          "base_uri": "https://localhost:8080/",
          "height": 49
        },
        "id": "qriw7zxqww3x",
        "outputId": "fbde4655-393c-4d06-8788-0f8b0c02fae6"
      },
      "source": [
        "#Initilaising an empty pd.Dataframe \"prediction\" with \"columns\" list below as its columns. \n",
        "#We will fill predictions from each customer's model on the customer's test set, obtained from above.\n",
        "#To retain the order of rows in test.csv, we add the row number as a feature.\n",
        "columns = ['test_row_id','score']\n",
        "prediction = pd.DataFrame(columns = columns)\n",
        "prediction"
      ],
      "execution_count": null,
      "outputs": [
        {
          "output_type": "execute_result",
          "data": {
            "text/html": [
              "<div>\n",
              "<style scoped>\n",
              "    .dataframe tbody tr th:only-of-type {\n",
              "        vertical-align: middle;\n",
              "    }\n",
              "\n",
              "    .dataframe tbody tr th {\n",
              "        vertical-align: top;\n",
              "    }\n",
              "\n",
              "    .dataframe thead th {\n",
              "        text-align: right;\n",
              "    }\n",
              "</style>\n",
              "<table border=\"1\" class=\"dataframe\">\n",
              "  <thead>\n",
              "    <tr style=\"text-align: right;\">\n",
              "      <th></th>\n",
              "      <th>test_row_id</th>\n",
              "      <th>score</th>\n",
              "    </tr>\n",
              "  </thead>\n",
              "  <tbody>\n",
              "  </tbody>\n",
              "</table>\n",
              "</div>"
            ],
            "text/plain": [
              "Empty DataFrame\n",
              "Columns: [test_row_id, score]\n",
              "Index: []"
            ]
          },
          "metadata": {
            "tags": []
          },
          "execution_count": 96
        }
      ]
    },
    {
      "cell_type": "markdown",
      "metadata": {
        "id": "yhXDmmXI26RV"
      },
      "source": [
        "#6.**Making Predictions**"
      ]
    },
    {
      "cell_type": "code",
      "metadata": {
        "id": "2nIECvZDsO5P"
      },
      "source": [
        "# #matrix_customer is for train\n",
        "# #matrix_customer_test is for test\n",
        "#We will pull out the train and test matrices for each customer, append them properly.\n",
        "#we will get an appended data frame with 7 columns i.e. six song_features and score.\n",
        "#THe test set has score values np.nan\n",
        "#We use KNN imputing for filling the scores. THis is also called KNN regression.\n",
        "#We append the results from each test data to the predictions data frame, along with the point's test_row_id.\n",
        "#Later, we will sort it using sortdf function written above, to sort according to test_row_id.\n",
        "count = 0\n",
        "for p in customer_set:\n",
        "  test_matrix = matrix_customer_test[p].drop(['test_row_id'], axis =1)\n",
        "  train_matrix = matrix_customer[p].copy()\n",
        "  l = len(train_matrix)\n",
        "  l2 = len(test_matrix)\n",
        "  gh = train_matrix.append(test_matrix)\n",
        "  imputer = KNNImputer(n_neighbors=l, weights= 'distance')\n",
        "  customer_matrix_imp = imputer.fit_transform(gh)\n",
        "  z = pd.DataFrame(customer_matrix_imp[l:len(customer_matrix_imp)])\n",
        "  z.rename(columns = {0: 'released_year', 1:'no.of_comments', 2:'platform_id', 3:'label_id',4:'language',5:'score' }, inplace = True)\n",
        "  columns = ['test_row_id','score']\n",
        "  lo = pd.DataFrame(columns = columns)\n",
        "  lo['score'] = z['score']\n",
        "  lo['test_row_id'] = matrix_customer_test[p]['test_row_id']\n",
        "  prediction = prediction.append(lo)\n",
        "  count = count + 1\n",
        "\n",
        "\n",
        "\n",
        "\n"
      ],
      "execution_count": null,
      "outputs": []
    },
    {
      "cell_type": "code",
      "metadata": {
        "id": "SRkCY35IsOxK"
      },
      "source": [
        "#Sorting the prediction with the test_row_id\n",
        "result = sortdf(prediction, 0)"
      ],
      "execution_count": null,
      "outputs": []
    },
    {
      "cell_type": "code",
      "metadata": {
        "id": "Xmyw5PmRsOb-",
        "colab": {
          "base_uri": "https://localhost:8080/",
          "height": 415
        },
        "outputId": "b5203ee6-8f15-464f-d987-62afbf1c908b"
      },
      "source": [
        "result #The sorted prediction"
      ],
      "execution_count": null,
      "outputs": [
        {
          "output_type": "execute_result",
          "data": {
            "text/html": [
              "<div>\n",
              "<style scoped>\n",
              "    .dataframe tbody tr th:only-of-type {\n",
              "        vertical-align: middle;\n",
              "    }\n",
              "\n",
              "    .dataframe tbody tr th {\n",
              "        vertical-align: top;\n",
              "    }\n",
              "\n",
              "    .dataframe thead th {\n",
              "        text-align: right;\n",
              "    }\n",
              "</style>\n",
              "<table border=\"1\" class=\"dataframe\">\n",
              "  <thead>\n",
              "    <tr style=\"text-align: right;\">\n",
              "      <th></th>\n",
              "      <th>test_row_id</th>\n",
              "      <th>score</th>\n",
              "    </tr>\n",
              "  </thead>\n",
              "  <tbody>\n",
              "    <tr>\n",
              "      <th>0</th>\n",
              "      <td>0.0</td>\n",
              "      <td>3.722657</td>\n",
              "    </tr>\n",
              "    <tr>\n",
              "      <th>1</th>\n",
              "      <td>1.0</td>\n",
              "      <td>3.788888</td>\n",
              "    </tr>\n",
              "    <tr>\n",
              "      <th>2</th>\n",
              "      <td>2.0</td>\n",
              "      <td>3.804747</td>\n",
              "    </tr>\n",
              "    <tr>\n",
              "      <th>3</th>\n",
              "      <td>3.0</td>\n",
              "      <td>3.659282</td>\n",
              "    </tr>\n",
              "    <tr>\n",
              "      <th>4</th>\n",
              "      <td>4.0</td>\n",
              "      <td>4.496959</td>\n",
              "    </tr>\n",
              "    <tr>\n",
              "      <th>...</th>\n",
              "      <td>...</td>\n",
              "      <td>...</td>\n",
              "    </tr>\n",
              "    <tr>\n",
              "      <th>670676</th>\n",
              "      <td>670676.0</td>\n",
              "      <td>3.431370</td>\n",
              "    </tr>\n",
              "    <tr>\n",
              "      <th>670677</th>\n",
              "      <td>670677.0</td>\n",
              "      <td>3.955928</td>\n",
              "    </tr>\n",
              "    <tr>\n",
              "      <th>670678</th>\n",
              "      <td>670678.0</td>\n",
              "      <td>4.030610</td>\n",
              "    </tr>\n",
              "    <tr>\n",
              "      <th>670679</th>\n",
              "      <td>670679.0</td>\n",
              "      <td>4.202718</td>\n",
              "    </tr>\n",
              "    <tr>\n",
              "      <th>670680</th>\n",
              "      <td>670680.0</td>\n",
              "      <td>3.308699</td>\n",
              "    </tr>\n",
              "  </tbody>\n",
              "</table>\n",
              "<p>670681 rows × 2 columns</p>\n",
              "</div>"
            ],
            "text/plain": [
              "        test_row_id     score\n",
              "0               0.0  3.722657\n",
              "1               1.0  3.788888\n",
              "2               2.0  3.804747\n",
              "3               3.0  3.659282\n",
              "4               4.0  4.496959\n",
              "...             ...       ...\n",
              "670676     670676.0  3.431370\n",
              "670677     670677.0  3.955928\n",
              "670678     670678.0  4.030610\n",
              "670679     670679.0  4.202718\n",
              "670680     670680.0  3.308699\n",
              "\n",
              "[670681 rows x 2 columns]"
            ]
          },
          "metadata": {
            "tags": []
          },
          "execution_count": 99
        }
      ]
    },
    {
      "cell_type": "code",
      "metadata": {
        "id": "dmZ0eQIm_Mxj"
      },
      "source": [
        "#The result exported to csv file.\n",
        "# result.to_csv('submission_7.csv')"
      ],
      "execution_count": null,
      "outputs": []
    },
    {
      "cell_type": "markdown",
      "metadata": {
        "id": "FrHPmSAviDY6"
      },
      "source": [
        "#7.Collaborative Filtering\n",
        "\n",
        "1.   Previously, I made predictions using the customer dataset alone.\n",
        "2.   This may induce bias and also, if the custoemr data is not sufficient, accuracy is compromised.\n",
        "3. Now, we use collective option of all customers on a song.\n",
        "4. We take the train data, take the average of ratings of all customers to a given song, and assign this value to it for any customer in the test set, for this song.\n",
        "5. This takes into account of all customers and since there are all 10k songs in the train data, we have one score for a given song_id, independent of its other features.\n",
        "\n"
      ]
    },
    {
      "cell_type": "code",
      "metadata": {
        "colab": {
          "base_uri": "https://localhost:8080/",
          "height": 415
        },
        "id": "CYBQt1RiiDF2",
        "outputId": "853e5762-6faf-4d36-94e8-ec77c4dce8b7"
      },
      "source": [
        "#Bring all the features into train_set\n",
        "#Trim the customer_id part. So we will get columns with song_features and scores.\n",
        "train_data_trimmed =train_data.drop(['customer_id'], axis = 1)\n",
        "train_data_trimmed\n",
        "sorted_train_data = sortdf(train_data_trimmed, 0)\n",
        "sorted_train_data"
      ],
      "execution_count": null,
      "outputs": [
        {
          "output_type": "execute_result",
          "data": {
            "text/html": [
              "<div>\n",
              "<style scoped>\n",
              "    .dataframe tbody tr th:only-of-type {\n",
              "        vertical-align: middle;\n",
              "    }\n",
              "\n",
              "    .dataframe tbody tr th {\n",
              "        vertical-align: top;\n",
              "    }\n",
              "\n",
              "    .dataframe thead th {\n",
              "        text-align: right;\n",
              "    }\n",
              "</style>\n",
              "<table border=\"1\" class=\"dataframe\">\n",
              "  <thead>\n",
              "    <tr style=\"text-align: right;\">\n",
              "      <th></th>\n",
              "      <th>song_id</th>\n",
              "      <th>score</th>\n",
              "    </tr>\n",
              "  </thead>\n",
              "  <tbody>\n",
              "    <tr>\n",
              "      <th>0</th>\n",
              "      <td>1</td>\n",
              "      <td>4</td>\n",
              "    </tr>\n",
              "    <tr>\n",
              "      <th>1</th>\n",
              "      <td>1</td>\n",
              "      <td>3</td>\n",
              "    </tr>\n",
              "    <tr>\n",
              "      <th>2</th>\n",
              "      <td>1</td>\n",
              "      <td>4</td>\n",
              "    </tr>\n",
              "    <tr>\n",
              "      <th>3</th>\n",
              "      <td>1</td>\n",
              "      <td>4</td>\n",
              "    </tr>\n",
              "    <tr>\n",
              "      <th>4</th>\n",
              "      <td>1</td>\n",
              "      <td>4</td>\n",
              "    </tr>\n",
              "    <tr>\n",
              "      <th>...</th>\n",
              "      <td>...</td>\n",
              "      <td>...</td>\n",
              "    </tr>\n",
              "    <tr>\n",
              "      <th>710104</th>\n",
              "      <td>10000</td>\n",
              "      <td>4</td>\n",
              "    </tr>\n",
              "    <tr>\n",
              "      <th>710105</th>\n",
              "      <td>10000</td>\n",
              "      <td>4</td>\n",
              "    </tr>\n",
              "    <tr>\n",
              "      <th>710106</th>\n",
              "      <td>10000</td>\n",
              "      <td>5</td>\n",
              "    </tr>\n",
              "    <tr>\n",
              "      <th>710107</th>\n",
              "      <td>10000</td>\n",
              "      <td>3</td>\n",
              "    </tr>\n",
              "    <tr>\n",
              "      <th>710108</th>\n",
              "      <td>10000</td>\n",
              "      <td>4</td>\n",
              "    </tr>\n",
              "  </tbody>\n",
              "</table>\n",
              "<p>710109 rows × 2 columns</p>\n",
              "</div>"
            ],
            "text/plain": [
              "        song_id  score\n",
              "0             1      4\n",
              "1             1      3\n",
              "2             1      4\n",
              "3             1      4\n",
              "4             1      4\n",
              "...         ...    ...\n",
              "710104    10000      4\n",
              "710105    10000      4\n",
              "710106    10000      5\n",
              "710107    10000      3\n",
              "710108    10000      4\n",
              "\n",
              "[710109 rows x 2 columns]"
            ]
          },
          "metadata": {
            "tags": []
          },
          "execution_count": 101
        }
      ]
    },
    {
      "cell_type": "code",
      "metadata": {
        "id": "DSyZPVPFlNqn"
      },
      "source": [
        "#Initialise a list \"ratings\", where index i corresponds to the rating of song_id -i , as defined above.\n",
        "#Here i = 1 to 10000.\n",
        "#ratings[0] is a redundant element.\n",
        "#These are average ratings from train set. Other song_features and datasets are not needed here.\n",
        "ratings = [0]*10001\n",
        "count = 1\n",
        "ratings[sorted_train_data['song_id'][0]] = sorted_train_data['score'][0]\n",
        "for x in range(1,len(sorted_train_data)):\n",
        "  if sorted_train_data['song_id'][x] == sorted_train_data['song_id'][x-1]:\n",
        "    ratings[sorted_train_data['song_id'][x]] += sorted_train_data['score'][x]\n",
        "    count = count+1\n",
        "  else:\n",
        "    ratings[sorted_train_data['song_id'][x-1]] /= count\n",
        "    count = 1\n",
        "    ratings[sorted_train_data['song_id'][x]] = sorted_train_data['score'][x]\n"
      ],
      "execution_count": null,
      "outputs": []
    },
    {
      "cell_type": "code",
      "metadata": {
        "id": "rPxmTGsRnxCy"
      },
      "source": [
        "#ratings[i] has ratings of song_id - i\n",
        "#test_copy has the required prediction of song scores.\n",
        "#It has 2 columns, test_row_id and scores. scores are from ratings list defined above.\n",
        "results = []\n",
        "for k in test['song_id']:\n",
        "  results.append(ratings[k])\n",
        "test_copy = test.copy()\n",
        "test_copy = test_copy.drop(columns = [\"customer_id\",\"song_id\"])\n",
        "test_copy['score'] = np.array(results)"
      ],
      "execution_count": null,
      "outputs": []
    },
    {
      "cell_type": "code",
      "metadata": {
        "id": "tDKw-vx1oxtQ"
      },
      "source": [
        "#Exporting test_copy as csv file. \n",
        "#test_copy.to_csv(\"only_collaborative.csv\")"
      ],
      "execution_count": null,
      "outputs": []
    },
    {
      "cell_type": "markdown",
      "metadata": {
        "id": "MhgL60bh7KgT"
      },
      "source": [
        "#8. Hybrid Approach \n",
        "\n",
        "1.   Now, we will combine the results from both above approaches. This will make the predictions better.\n",
        "2.   We take mean of both the above predictions for every data point in test set and report them as final predictions.\n",
        "\n"
      ]
    },
    {
      "cell_type": "code",
      "metadata": {
        "id": "dNG_6Ase7hn5"
      },
      "source": [
        "#We convert scores from both above methods into arrays, take their mean.\n",
        "#We add the socres into \"final_predictions\" dataframe. \n",
        "#It has 2 columns, test_row_id, and score as needed.\n",
        "#This is the final prediction.\n",
        "a = np.array(test_copy['score'])\n",
        "b = np.array(result['score'])\n",
        "c = (a+b)/2\n",
        "final_predictions = test_copy.copy()\n",
        "final_predictions['score'] = c "
      ],
      "execution_count": null,
      "outputs": []
    },
    {
      "cell_type": "code",
      "metadata": {
        "id": "KxDOgjIG8fRn"
      },
      "source": [
        "#Exporting the final results to csv\n",
        "final_predictions.to_csv('final_predictions.csv')"
      ],
      "execution_count": null,
      "outputs": []
    },
    {
      "cell_type": "markdown",
      "metadata": {
        "id": "zKEJ5J7x86vM"
      },
      "source": [
        "# THE CODE BLOCK BELOW THIS IS AN APPROACH TRIED, BUT IT IS DISCARDED DUE TO SLIGHT INCREASE IN ERROR. BUT WE WANT TO SHOW OUR EFFORTS."
      ]
    },
    {
      "cell_type": "markdown",
      "metadata": {
        "id": "T1sEWPWiP2ho"
      },
      "source": [
        "#9. Including saved lists by Clustering of songs.\n",
        "\n",
        "We **tried** to accommodate saved_for_later songs into the model by clustering the songs with their features into optimal 5 clusters and finding the probability that a customer saves a cluster songs using this dataset. This is done by adding a feature called saving probability. But this increased the error slightly, so we discarded it."
      ]
    },
    {
      "cell_type": "code",
      "metadata": {
        "colab": {
          "base_uri": "https://localhost:8080/",
          "height": 415
        },
        "id": "Ij3SqA-rcsTc",
        "outputId": "f4ed934b-3ce0-4ddb-ba08-d9155e19f694"
      },
      "source": [
        "X_standard"
      ],
      "execution_count": null,
      "outputs": [
        {
          "output_type": "execute_result",
          "data": {
            "text/html": [
              "<div>\n",
              "<style scoped>\n",
              "    .dataframe tbody tr th:only-of-type {\n",
              "        vertical-align: middle;\n",
              "    }\n",
              "\n",
              "    .dataframe tbody tr th {\n",
              "        vertical-align: top;\n",
              "    }\n",
              "\n",
              "    .dataframe thead th {\n",
              "        text-align: right;\n",
              "    }\n",
              "</style>\n",
              "<table border=\"1\" class=\"dataframe\">\n",
              "  <thead>\n",
              "    <tr style=\"text-align: right;\">\n",
              "      <th></th>\n",
              "      <th>song_id</th>\n",
              "      <th>released_year</th>\n",
              "      <th>no.of_comments</th>\n",
              "      <th>label_id</th>\n",
              "      <th>platform_id</th>\n",
              "      <th>language</th>\n",
              "    </tr>\n",
              "  </thead>\n",
              "  <tbody>\n",
              "    <tr>\n",
              "      <th>0</th>\n",
              "      <td>1.0</td>\n",
              "      <td>0.171803</td>\n",
              "      <td>24.875979</td>\n",
              "      <td>2.957586</td>\n",
              "      <td>-0.872434</td>\n",
              "      <td>0.213034</td>\n",
              "    </tr>\n",
              "    <tr>\n",
              "      <th>1</th>\n",
              "      <td>2.0</td>\n",
              "      <td>0.098426</td>\n",
              "      <td>11.911939</td>\n",
              "      <td>-0.261011</td>\n",
              "      <td>-0.517710</td>\n",
              "      <td>0.213034</td>\n",
              "    </tr>\n",
              "    <tr>\n",
              "      <th>2</th>\n",
              "      <td>3.0</td>\n",
              "      <td>0.151791</td>\n",
              "      <td>15.037862</td>\n",
              "      <td>2.426982</td>\n",
              "      <td>0.219451</td>\n",
              "      <td>-0.611240</td>\n",
              "    </tr>\n",
              "    <tr>\n",
              "      <th>3</th>\n",
              "      <td>4.0</td>\n",
              "      <td>-0.148385</td>\n",
              "      <td>11.376145</td>\n",
              "      <td>0.017536</td>\n",
              "      <td>0.865852</td>\n",
              "      <td>0.213034</td>\n",
              "    </tr>\n",
              "    <tr>\n",
              "      <th>4</th>\n",
              "      <td>5.0</td>\n",
              "      <td>-0.381855</td>\n",
              "      <td>8.013108</td>\n",
              "      <td>1.768168</td>\n",
              "      <td>-1.147137</td>\n",
              "      <td>0.213034</td>\n",
              "    </tr>\n",
              "    <tr>\n",
              "      <th>...</th>\n",
              "      <td>...</td>\n",
              "      <td>...</td>\n",
              "      <td>...</td>\n",
              "      <td>...</td>\n",
              "      <td>...</td>\n",
              "      <td>...</td>\n",
              "    </tr>\n",
              "    <tr>\n",
              "      <th>9995</th>\n",
              "      <td>9996.0</td>\n",
              "      <td>0.185144</td>\n",
              "      <td>-0.284583</td>\n",
              "      <td>-0.415356</td>\n",
              "      <td>0.645882</td>\n",
              "      <td>0.213034</td>\n",
              "    </tr>\n",
              "    <tr>\n",
              "      <th>9996</th>\n",
              "      <td>9997.0</td>\n",
              "      <td>0.051732</td>\n",
              "      <td>-0.412775</td>\n",
              "      <td>-0.775154</td>\n",
              "      <td>-0.230882</td>\n",
              "      <td>0.213034</td>\n",
              "    </tr>\n",
              "    <tr>\n",
              "      <th>9997</th>\n",
              "      <td>9998.0</td>\n",
              "      <td>-0.034985</td>\n",
              "      <td>-0.416205</td>\n",
              "      <td>-0.863701</td>\n",
              "      <td>-1.079587</td>\n",
              "      <td>0.213034</td>\n",
              "    </tr>\n",
              "    <tr>\n",
              "      <th>9998</th>\n",
              "      <td>9999.0</td>\n",
              "      <td>0.191814</td>\n",
              "      <td>-0.152635</td>\n",
              "      <td>2.073784</td>\n",
              "      <td>-0.379146</td>\n",
              "      <td>0.213034</td>\n",
              "    </tr>\n",
              "    <tr>\n",
              "      <th>9999</th>\n",
              "      <td>10000.0</td>\n",
              "      <td>0.105097</td>\n",
              "      <td>-0.417838</td>\n",
              "      <td>0.850598</td>\n",
              "      <td>-0.024422</td>\n",
              "      <td>-0.117497</td>\n",
              "    </tr>\n",
              "  </tbody>\n",
              "</table>\n",
              "<p>10000 rows × 6 columns</p>\n",
              "</div>"
            ],
            "text/plain": [
              "      song_id  released_year  no.of_comments  label_id  platform_id  language\n",
              "0         1.0       0.171803       24.875979  2.957586    -0.872434  0.213034\n",
              "1         2.0       0.098426       11.911939 -0.261011    -0.517710  0.213034\n",
              "2         3.0       0.151791       15.037862  2.426982     0.219451 -0.611240\n",
              "3         4.0      -0.148385       11.376145  0.017536     0.865852  0.213034\n",
              "4         5.0      -0.381855        8.013108  1.768168    -1.147137  0.213034\n",
              "...       ...            ...             ...       ...          ...       ...\n",
              "9995   9996.0       0.185144       -0.284583 -0.415356     0.645882  0.213034\n",
              "9996   9997.0       0.051732       -0.412775 -0.775154    -0.230882  0.213034\n",
              "9997   9998.0      -0.034985       -0.416205 -0.863701    -1.079587  0.213034\n",
              "9998   9999.0       0.191814       -0.152635  2.073784    -0.379146  0.213034\n",
              "9999  10000.0       0.105097       -0.417838  0.850598    -0.024422 -0.117497\n",
              "\n",
              "[10000 rows x 6 columns]"
            ]
          },
          "metadata": {
            "tags": []
          },
          "execution_count": 107
        }
      ]
    },
    {
      "cell_type": "code",
      "metadata": {
        "id": "apn_GS12KOe3"
      },
      "source": [
        "from sklearn.cluster import KMeans\n",
        "X_no_song_id = X_standard.drop([\"song_id\"], axis = 1)\n",
        "kmeans = KMeans(n_clusters=5, random_state=0).fit(X_no_song_id)\n"
      ],
      "execution_count": null,
      "outputs": []
    },
    {
      "cell_type": "code",
      "metadata": {
        "id": "MVTGCjKQcGA0"
      },
      "source": [
        "centroids = kmeans.cluster_centers_\n",
        "cluster_labels = kmeans.labels_\n",
        "opt_error = kmeans.inertia_"
      ],
      "execution_count": null,
      "outputs": []
    },
    {
      "cell_type": "code",
      "metadata": {
        "colab": {
          "base_uri": "https://localhost:8080/"
        },
        "id": "RVJ7_48kcV2y",
        "outputId": "75a1430f-a192-4587-ec9d-c09afde92ab0"
      },
      "source": [
        "X_standard['cluster_labels'] = cluster_labels"
      ],
      "execution_count": null,
      "outputs": [
        {
          "output_type": "stream",
          "text": [
            "/usr/local/lib/python3.7/dist-packages/ipykernel_launcher.py:1: SettingWithCopyWarning: \n",
            "A value is trying to be set on a copy of a slice from a DataFrame.\n",
            "Try using .loc[row_indexer,col_indexer] = value instead\n",
            "\n",
            "See the caveats in the documentation: https://pandas.pydata.org/pandas-docs/stable/user_guide/indexing.html#returning-a-view-versus-a-copy\n",
            "  \"\"\"Entry point for launching an IPython kernel.\n"
          ],
          "name": "stderr"
        }
      ]
    },
    {
      "cell_type": "code",
      "metadata": {
        "id": "TT41qt3-RDFw"
      },
      "source": [
        "d = {} #THis is dict for saved\n",
        "sortedset = sortdf(saveforlater, 0)\n",
        "s4 = sorted(set(saveforlater['customer_id']))\n",
        "for i in s4:\n",
        "  d[i] = []\n",
        "  \n",
        "arr_svl = np.array(sortedset)\n",
        "sz_svl = np.shape(arr_svl)[0]\n",
        "\n",
        "for i in range(0,sz_svl) :\n",
        "  d[arr_svl[i][0]].append(int(arr_svl[i][1]))"
      ],
      "execution_count": null,
      "outputs": []
    },
    {
      "cell_type": "code",
      "metadata": {
        "colab": {
          "base_uri": "https://localhost:8080/"
        },
        "id": "oY5vn1RiRLDU",
        "outputId": "c81a2d20-5803-434d-d421-0dbdff638fa1"
      },
      "source": [
        "len(d)\n",
        "d['F10040']"
      ],
      "execution_count": null,
      "outputs": [
        {
          "output_type": "execute_result",
          "data": {
            "text/plain": [
              "[342, 7275, 1136, 4893, 4958, 188, 165, 1167, 1796]"
            ]
          },
          "metadata": {
            "tags": []
          },
          "execution_count": 112
        }
      ]
    },
    {
      "cell_type": "code",
      "metadata": {
        "id": "lhla0Tp-Qvsl"
      },
      "source": [
        "customer_saving_prob = {} #A dict of keys as customer names of 12799 customers, and values as their saving probabilities.\n",
        "for j in d:\n",
        "  customer_saving_prob[j] = [0]*5 \n",
        "  for k in d[j]:\n",
        "    customer_saving_prob[j][X_standard['cluster_labels'][int(k)-1]] += 1\n",
        "  for m in range(len(customer_saving_prob[j])):\n",
        "    customer_saving_prob[j][m] /= len(d[j])\n"
      ],
      "execution_count": null,
      "outputs": []
    },
    {
      "cell_type": "code",
      "metadata": {
        "id": "7sLSl6_GS58p"
      },
      "source": [
        "Set1 = set(train_data['customer_id'])\n",
        "pr = {}\n",
        "for i in Set1:\n",
        "  pr[i] = False\n",
        "Set2 = d.keys()\n",
        "for j in Set2:\n",
        "  pr[j] = True"
      ],
      "execution_count": null,
      "outputs": []
    },
    {
      "cell_type": "code",
      "metadata": {
        "id": "6RVagDAvSdGa"
      },
      "source": [
        "def dataset_with_saving(customer_id):\n",
        "  X_c = matrix_customer[customer_id]\n",
        "  flag = 0\n",
        "  if pr[customer_id]:\n",
        "    flag = 1\n",
        "    # X_c['saving_probability'] = np.array([])\n",
        "    z = []\n",
        "  v = d_c[customer_id]\n",
        "  for i in v:\n",
        "      if flag == 1:\n",
        "        cluster = X_standard['cluster_labels'][int(i[0])-1]\n",
        "        z.append(customer_saving_prob[customer_id][cluster])\n",
        "  if flag == 1:\n",
        "    X_c['saving_probability'] = np.array(z)\n",
        "    X_c = X_c[['released_year', 'no.of_comments', 'platform_id', 'label_id','language', 'saving_probability', 'score']]\n",
        "  return X_c"
      ],
      "execution_count": null,
      "outputs": []
    },
    {
      "cell_type": "code",
      "metadata": {
        "id": "CEWcqzPWWfs5"
      },
      "source": [
        "def dataset_with_saving_test(customer_id):\n",
        "  X_c = matrix_customer_test[customer_id]\n",
        "  flag = 0\n",
        "  if pr[customer_id]:\n",
        "    flag = 1\n",
        "    # X_c['saving_probability'] = np.array([])\n",
        "    z = []\n",
        "  v = d_test[customer_id]\n",
        "  for i in v:\n",
        "      if flag == 1:\n",
        "        cluster = X_standard['cluster_labels'][int(i[1])-1]\n",
        "        z.append(customer_saving_prob[customer_id][cluster])\n",
        "  if flag == 1:\n",
        "    X_c['saving_probability'] = np.array(z)\n",
        "    X_c = X_c[['released_year', 'no.of_comments', 'platform_id', 'label_id','language', 'saving_probability', 'score','test_row_id']]\n",
        "  return X_c"
      ],
      "execution_count": null,
      "outputs": []
    },
    {
      "cell_type": "code",
      "metadata": {
        "id": "SfgkLOOTXpbY"
      },
      "source": [
        "matrix_customer_withsaving = {}\n",
        "for j in d_c:\n",
        "  matrix_customer_withsaving[j] = dataset_with_saving(j)\n",
        "\n",
        "\n",
        "matrix_customer_test_withsaving = {}\n",
        "for j in d_test:\n",
        "  matrix_customer_test_withsaving[j] = dataset_with_saving_test(j)"
      ],
      "execution_count": null,
      "outputs": []
    },
    {
      "cell_type": "code",
      "metadata": {
        "colab": {
          "base_uri": "https://localhost:8080/",
          "height": 49
        },
        "id": "LAaXWNMuY6TY",
        "outputId": "a5ae64e7-d34c-4e0a-9925-cbe0feb1f583"
      },
      "source": [
        "columns = ['test_row_id','score']\n",
        "prediction_withsaving = pd.DataFrame(columns = columns)\n",
        "prediction_withsaving"
      ],
      "execution_count": null,
      "outputs": [
        {
          "output_type": "execute_result",
          "data": {
            "text/html": [
              "<div>\n",
              "<style scoped>\n",
              "    .dataframe tbody tr th:only-of-type {\n",
              "        vertical-align: middle;\n",
              "    }\n",
              "\n",
              "    .dataframe tbody tr th {\n",
              "        vertical-align: top;\n",
              "    }\n",
              "\n",
              "    .dataframe thead th {\n",
              "        text-align: right;\n",
              "    }\n",
              "</style>\n",
              "<table border=\"1\" class=\"dataframe\">\n",
              "  <thead>\n",
              "    <tr style=\"text-align: right;\">\n",
              "      <th></th>\n",
              "      <th>test_row_id</th>\n",
              "      <th>score</th>\n",
              "    </tr>\n",
              "  </thead>\n",
              "  <tbody>\n",
              "  </tbody>\n",
              "</table>\n",
              "</div>"
            ],
            "text/plain": [
              "Empty DataFrame\n",
              "Columns: [test_row_id, score]\n",
              "Index: []"
            ]
          },
          "metadata": {
            "tags": []
          },
          "execution_count": 118
        }
      ]
    },
    {
      "cell_type": "code",
      "metadata": {
        "id": "wtMEpQ2uRvvq"
      },
      "source": [
        "#Modifying the prediction algo to include the saving probabilities\n",
        "#matrix_customer is for train\n",
        "#matrix_customer_test is for test\n",
        "# len(customer_set)\n",
        "count = 0\n",
        "# p = \"F10040\"\n",
        "# if p == \"F10040\" :\n",
        "\n",
        "for p in customer_set:\n",
        "  count = count + 1\n",
        "  # print(\"Appending \" + p + \" customer \" + str(count))\n",
        "  test_matrix_withsaving = matrix_customer_test_withsaving[p].drop(['test_row_id'], axis =1)\n",
        "  train_matrix_withsaving = matrix_customer_withsaving[p].copy()\n",
        "  l = len(train_matrix_withsaving)\n",
        "  l2 = len(test_matrix_withsaving)\n",
        "  gh = train_matrix_withsaving.append(test_matrix_withsaving)\n",
        "  imputer = KNNImputer(n_neighbors=l, weights= 'distance')\n",
        "  customer_matrix_imp = imputer.fit_transform(gh)\n",
        "  # if len(customer_matrix_imp)!= l + l2:\n",
        "  #   print(\"length not compatible\")\n",
        "  #   print(len(customer_matrix_imp))\n",
        "  #   break\n",
        "  z = pd.DataFrame(customer_matrix_imp[l:len(customer_matrix_imp)])\n",
        "  if(pr[p]):\n",
        "    z.rename(columns = {0: 'released_year', 1:'no.of_comments', 2:'platform_id', 3:'label_id',4:'language',5:'saving_probability',6:'score' }, inplace = True)\n",
        "  else:\n",
        "    z.rename(columns = {0: 'released_year', 1:'no.of_comments', 2:'platform_id', 3:'label_id',4:'language',5:'score' }, inplace = True)\n",
        "  columns = ['test_row_id','score']\n",
        "  lo = pd.DataFrame(columns = columns)\n",
        "  lo['score'] = z['score']\n",
        "  lo['test_row_id'] = matrix_customer_test_withsaving[p]['test_row_id']\n",
        "  prediction_withsaving = prediction_withsaving.append(lo)\n",
        "\n"
      ],
      "execution_count": null,
      "outputs": []
    },
    {
      "cell_type": "code",
      "metadata": {
        "id": "5fY6jVMEghLd"
      },
      "source": [
        "# prediction_withsaving.to_csv('prediction_withsaving_without_others.csv')"
      ],
      "execution_count": null,
      "outputs": []
    }
  ]
}
