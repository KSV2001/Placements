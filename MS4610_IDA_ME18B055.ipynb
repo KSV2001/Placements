{
  "nbformat": 4,
  "nbformat_minor": 0,
  "metadata": {
    "kernelspec": {
      "language": "python",
      "display_name": "Python 3",
      "name": "python3"
    },
    "language_info": {
      "pygments_lexer": "ipython3",
      "nbconvert_exporter": "python",
      "version": "3.6.4",
      "file_extension": ".py",
      "codemirror_mode": {
        "name": "ipython",
        "version": 3
      },
      "name": "python",
      "mimetype": "text/x-python"
    },
    "colab": {
      "name": "MS4610-IDA_ME18B055.ipynb",
      "provenance": [],
      "collapsed_sections": [
        "fTQ3s63Chvjv",
        "WdJmZaKThvjw",
        "d9P_gog3hvj3",
        "yXw_fWjihvj4",
        "mFfkzVLKhvj6",
        "Sbo4XaXBhvj-",
        "APR0Dau1hvj_",
        "y6SfBmnlhvkA",
        "IQuMEaSZhvkA",
        "NJvAFw0khvkG",
        "H_v2pL3nhvkN"
      ]
    }
  },
  "cells": [
    {
      "cell_type": "markdown",
      "metadata": {
        "id": "np9DFgRVhviS"
      },
      "source": [
        "## **MS4610 - Introduction to Data Analytics - Final Course Project**\n",
        "\n",
        "__Problem Statement:__ <br>\n",
        "     The project deals in predicting the nature of Loan given (default or non-default) by an organization using the training dataset of given features like customer's age, income, expenses, occupation type and also some of the metrics calculated by the organization.\n",
        "\n",
        "__Data Description:__ <br>\n",
        "\n",
        "| Variable | Description | \n",
        "|------|------|\n",
        "| ID | Unique Loan Identifier | \n",
        "| Loan Type | A/ B | \n",
        "| Occupation Type | customer's occupation(X/Y/Z) | \n",
        "| Income | Annual income of customer | \n",
        "| Expense | Annual expense of customer | \n",
        "| Age | 0 for customer's age below 50 / 1 for above 50 | \n",
        "| Score 1 | Customer Metric | \n",
        "| Score 2 | Customer Metric | \n",
        "| Score 3 | Customer Metric | \n",
        "| Score 4 | Customer Metric | \n",
        "| Score 5 | Customer Metric | \n",
        "| Label | 0 for non-default/ 1 for default type | \n",
        "\n"
      ]
    },
    {
      "cell_type": "markdown",
      "metadata": {
        "id": "X7qQGHOMhvic"
      },
      "source": [
        "## A. Data Importing:"
      ]
    },
    {
      "cell_type": "code",
      "metadata": {
        "trusted": true,
        "id": "GJUO-Iskhvik"
      },
      "source": [
        "############## Importing Libraries ##################\n",
        "import pandas as pd \n",
        "import matplotlib.pyplot as py\n",
        "import seaborn as sns"
      ],
      "execution_count": null,
      "outputs": []
    },
    {
      "cell_type": "markdown",
      "metadata": {
        "id": "tSazRTsehviq"
      },
      "source": [
        "I imported the data by uploading the three csv files given i.e train_x.csv, train_y.csv and test_x.csv (in kaggle) and naming them together as loan-dataset. The total input file size is 9.7 MB."
      ]
    },
    {
      "cell_type": "code",
      "metadata": {
        "_cell_guid": "79c7e3d0-c299-4dcb-8224-4455121ee9b0",
        "_uuid": "d629ff2d2480ee46fbb7e2d37f6b5fab8052498a",
        "papermill": {
          "duration": 1.697277,
          "end_time": "2020-12-07T06:52:49.677777",
          "exception": false,
          "start_time": "2020-12-07T06:52:47.9805",
          "status": "completed"
        },
        "tags": [],
        "trusted": true,
        "id": "j4dvzZ8ohviv"
      },
      "source": [
        "########## reading training dataset ###############\n",
        "train_data = pd.read_csv('../input/loan-dataset/train_x.csv')\n",
        "train_data.info()\n",
        "\n",
        "########## reading training labels ################\n",
        "train_label_data=pd.read_csv('../input/loan-dataset/train_y.csv')\n",
        "train_label_data.info()\n",
        "\n",
        "train_data = train_data.merge(train_label_data,on = 'ID')"
      ],
      "execution_count": null,
      "outputs": []
    },
    {
      "cell_type": "code",
      "metadata": {
        "papermill": {
          "duration": 0.06875,
          "end_time": "2020-12-07T06:52:49.776395",
          "exception": false,
          "start_time": "2020-12-07T06:52:49.707645",
          "status": "completed"
        },
        "tags": [],
        "trusted": true,
        "id": "aRXwSeAjhviy"
      },
      "source": [
        "train_data.head(20)"
      ],
      "execution_count": null,
      "outputs": []
    },
    {
      "cell_type": "markdown",
      "metadata": {
        "id": "C50UQP6Khvi2"
      },
      "source": [
        "## B. Data Visualization:"
      ]
    },
    {
      "cell_type": "code",
      "metadata": {
        "papermill": {
          "duration": 0.0649,
          "end_time": "2020-12-07T06:52:49.870912",
          "exception": false,
          "start_time": "2020-12-07T06:52:49.806012",
          "status": "completed"
        },
        "tags": [],
        "trusted": true,
        "id": "sXA7DH_qhvi8"
      },
      "source": [
        "###### leaving out unlabelled rows ###########\n",
        "new_train_data = train_data[train_data.Label.notnull()]  \n",
        "new_train_data.head(7)\n",
        "\n",
        "###### calculating percentage of data dropped #######\n",
        "length = len(train_data.ID)\n",
        "length_new = len(new_train_data.ID)\n",
        "per = (1 - length_new/length) *100\n",
        "print(\"Percent of data dropped is \",per)\n"
      ],
      "execution_count": null,
      "outputs": []
    },
    {
      "cell_type": "code",
      "metadata": {
        "papermill": {
          "duration": 0.259818,
          "end_time": "2020-12-07T06:52:50.160902",
          "exception": false,
          "start_time": "2020-12-07T06:52:49.901084",
          "status": "completed"
        },
        "tags": [],
        "trusted": true,
        "id": "MqEnyF9XhvjC"
      },
      "source": [
        "###### checking for skewdness in labels in new_train_dataset ######\n",
        "sns.countplot(x = \"Label\",data = new_train_data)\n",
        "\n",
        "l = len(new_train_data.Label)\n",
        "s = new_train_data.Label.sum()\n",
        "print(s)\n",
        "percent = (s/l)*100\n",
        "print(\"Percentage of labels which are default is\",percent)\n"
      ],
      "execution_count": null,
      "outputs": []
    },
    {
      "cell_type": "code",
      "metadata": {
        "trusted": true,
        "id": "-VVr2wNOhvjK"
      },
      "source": [
        "interested_columns=['Loan type', 'Occupation type','Age' ]\n",
        "for col in interested_columns:\n",
        "    categorical_bin = pd.crosstab(new_train_data[col],new_train_data['Label'])\n",
        "    categorical_bin.div(categorical_bin.sum(1).astype(float), axis=0).plot(kind=\"bar\", stacked=True)\n",
        "    py.xlabel(f'{col}')\n",
        "    P = py.ylabel('Percentage')"
      ],
      "execution_count": null,
      "outputs": []
    },
    {
      "cell_type": "code",
      "metadata": {
        "trusted": true,
        "id": "ccBojIUahvjN"
      },
      "source": [
        "########### Pearson correlation coefficient ###########\n",
        "corr = new_train_data.corr(method = 'pearson')\n",
        "f, ax = py.subplots(figsize=(11, 9))\n",
        "cmap = sns.diverging_palette(10, 275, as_cmap=True)\n",
        "\n",
        "sns.heatmap(corr, cmap=cmap, square=True,\n",
        "            linewidths=0.5, cbar_kws={\"shrink\": 0.5}, ax=ax)"
      ],
      "execution_count": null,
      "outputs": []
    },
    {
      "cell_type": "code",
      "metadata": {
        "papermill": {
          "duration": 1.256455,
          "end_time": "2020-12-07T06:52:51.449319",
          "exception": false,
          "start_time": "2020-12-07T06:52:50.192864",
          "status": "completed"
        },
        "tags": [],
        "trusted": true,
        "id": "D5vR8hIfhvjQ"
      },
      "source": [
        "########### Box plot of numerical columns ###########\n",
        "numerical_columns= ['Expense','Income', 'Score1','Score2','Score3','Score4', 'Score5']\n",
        "\n",
        "\n",
        "fig,axes = py.subplots(3,3,figsize=(20,14))\n",
        "for idx,cat_col in enumerate(numerical_columns):\n",
        "     row,col = idx//3,idx%3\n",
        "     sns.boxplot(y=cat_col,data=train_data,x='Label',ax=axes[row,col])\n",
        "\n",
        "print(train_data[numerical_columns].describe())\n",
        "py.subplots_adjust(hspace=0.5)\n",
        "\n"
      ],
      "execution_count": null,
      "outputs": []
    },
    {
      "cell_type": "code",
      "metadata": {
        "trusted": true,
        "id": "KEuBI2HKhvjU"
      },
      "source": [
        "########### Plotting all the pairs of numerical columns ###########\n",
        "interested_columns = ['Expense','Income', 'Score1','Score2','Score3','Score4','Score5','Label']\n",
        "sns.pairplot(new_train_data[interested_columns][:5000],hue='Label')"
      ],
      "execution_count": null,
      "outputs": []
    },
    {
      "cell_type": "markdown",
      "metadata": {
        "id": "vySk527shvjZ"
      },
      "source": [
        "__Observations:__<br>\n",
        "1. There is an imbalance in the Label column\n",
        "2. There is a high correlation between Score5 and Expense\n",
        "\n",
        "__Solutions:__<br>\n",
        "1. Using SMOTE to balance the dataset\n",
        "2. As there are not much features, the correlated features are not removed"
      ]
    },
    {
      "cell_type": "markdown",
      "metadata": {
        "id": "a2Z4M8X5hvjb"
      },
      "source": [
        "## C. Data Pre-processing:"
      ]
    },
    {
      "cell_type": "code",
      "metadata": {
        "papermill": {
          "duration": 0.054276,
          "end_time": "2020-12-07T06:52:51.537357",
          "exception": false,
          "start_time": "2020-12-07T06:52:51.483081",
          "status": "completed"
        },
        "tags": [],
        "trusted": true,
        "id": "1oax_HeAhvjc"
      },
      "source": [
        "########## defining numerical and categorical columns ###########\n",
        "categorical_columns=['ID','Loan type', 'Occupation type','Age' ]\n",
        "numerical_columns= ['ID','Expense','Income', 'Score1','Score2','Score3','Score4', 'Score5']"
      ],
      "execution_count": null,
      "outputs": []
    },
    {
      "cell_type": "code",
      "metadata": {
        "trusted": true,
        "id": "fzRCFnS9hvje"
      },
      "source": [
        "X = new_train_data.drop(columns='Label')\n",
        "y = new_train_data['Label']\n",
        "\n",
        "############# Mode filling for categorical columns ################\n",
        "from sklearn.impute import SimpleImputer\n",
        "imp= SimpleImputer(strategy = 'most_frequent')\n",
        "X_categorical = imp.fit_transform(X[categorical_columns])\n",
        "X_categorical = pd.DataFrame(X_categorical,columns=categorical_columns)\n",
        "\n",
        "############# Mean filling for numerical columns ##################\n",
        "imp= SimpleImputer(strategy = 'mean')\n",
        "X_numerical = imp.fit_transform(X[numerical_columns])\n",
        "X_numerical = pd.DataFrame(X_numerical,columns=numerical_columns)"
      ],
      "execution_count": null,
      "outputs": []
    },
    {
      "cell_type": "code",
      "metadata": {
        "papermill": {
          "duration": 0.133974,
          "end_time": "2020-12-07T06:52:52.995509",
          "exception": false,
          "start_time": "2020-12-07T06:52:52.861535",
          "status": "completed"
        },
        "tags": [],
        "trusted": true,
        "id": "8dWRrV2whvjg"
      },
      "source": [
        "X = X_numerical.merge(X_categorical,on=\"ID\")\n",
        "X = X.drop(columns = 'ID')\n",
        "\n",
        "############# Encoding Categorical features #################\n",
        "X = pd.get_dummies(X,drop_first=True)\n"
      ],
      "execution_count": null,
      "outputs": []
    },
    {
      "cell_type": "code",
      "metadata": {
        "trusted": true,
        "id": "ppCB5vUahvjk"
      },
      "source": [
        "X.info()"
      ],
      "execution_count": null,
      "outputs": []
    },
    {
      "cell_type": "code",
      "metadata": {
        "papermill": {
          "duration": 0.089798,
          "end_time": "2020-12-07T06:52:53.119457",
          "exception": false,
          "start_time": "2020-12-07T06:52:53.029659",
          "status": "completed"
        },
        "tags": [],
        "trusted": true,
        "id": "9zgTwQadhvjm"
      },
      "source": [
        "####### Using SMOTE for making the data set balanced #######\n",
        "from imblearn.over_sampling import SMOTE\n",
        "smk = SMOTE(random_state=0)\n",
        "X_new,y_new = smk.fit_sample(X,y)\n",
        "len(y_new)\n",
        "\n",
        "####### checking whether dataset became balanced or not ######\n",
        "l = len(y_new)\n",
        "s = y_new.sum()\n",
        "print(s)\n",
        "percent = (s/l)*100\n",
        "print(\"Percentage of labels which are default after balancing the data set is\",percent)"
      ],
      "execution_count": null,
      "outputs": []
    },
    {
      "cell_type": "code",
      "metadata": {
        "trusted": true,
        "id": "bLxwoTmchvjp"
      },
      "source": [
        "X_new.info()"
      ],
      "execution_count": null,
      "outputs": []
    },
    {
      "cell_type": "markdown",
      "metadata": {
        "id": "r2m6oLiPhvjr"
      },
      "source": [
        ""
      ]
    },
    {
      "cell_type": "code",
      "metadata": {
        "trusted": true,
        "id": "Je6hDYvghvjt"
      },
      "source": [
        "########### Plotting all the pairs of numerical columns after SMOTE ###########\n",
        "interested_columns = ['Expense','Income', 'Score1','Score2','Score3','Score4','Score5','Label']\n",
        "smote_df = pd.concat([X_new, y_new], axis=1)\n",
        "smote_df = smote_df.sample(frac=1).reset_index(drop=True)\n",
        "sns.pairplot(smote_df[interested_columns][:5000],hue='Label')"
      ],
      "execution_count": null,
      "outputs": []
    },
    {
      "cell_type": "markdown",
      "metadata": {
        "id": "af5B6Ki7hvju"
      },
      "source": [
        "Fifty percent of data are labelled as default after applying SMOTE. The data-set became balanced."
      ]
    },
    {
      "cell_type": "markdown",
      "metadata": {
        "id": "PaiHQxZwhvju"
      },
      "source": [
        "## D. Model Training:"
      ]
    },
    {
      "cell_type": "markdown",
      "metadata": {
        "papermill": {
          "duration": 0.035935,
          "end_time": "2020-12-07T06:52:53.936919",
          "exception": false,
          "start_time": "2020-12-07T06:52:53.900984",
          "status": "completed"
        },
        "tags": [],
        "id": "fTQ3s63Chvjv"
      },
      "source": [
        "### Model 1 - Logistic Regression"
      ]
    },
    {
      "cell_type": "markdown",
      "metadata": {
        "id": "nHy5xPLRhvjv"
      },
      "source": [
        " Logistic Regression model is sensitive to variation in the dataset, so standadizing data has to be done."
      ]
    },
    {
      "cell_type": "markdown",
      "metadata": {
        "id": "WdJmZaKThvjw"
      },
      "source": [
        "### Standardizing Numerical columns in Dataset"
      ]
    },
    {
      "cell_type": "code",
      "metadata": {
        "trusted": true,
        "id": "GXI46_Tphvjw"
      },
      "source": [
        "numerical_columns= ['Expense','Income', 'Score1','Score2','Score3','Score4', 'Score5']\n",
        "categorical_columns =['Loan type_B','Occupation type_Y','Occupation type_Z','Age_1.0']\n",
        "\n",
        "X_standard =pd.DataFrame([])\n",
        "\n",
        "################## Standarizing values only for numerical columns################\n",
        "from sklearn.preprocessing import StandardScaler\n",
        "\n",
        "X_standard[numerical_columns] =pd.DataFrame(StandardScaler().fit_transform(X_new[numerical_columns]))\n",
        "\n",
        "################## combining categorical columns ################\n",
        "X_standard[categorical_columns]=X_new[categorical_columns]\n",
        "X_standard.info()\n",
        "X_standard.head()"
      ],
      "execution_count": null,
      "outputs": []
    },
    {
      "cell_type": "code",
      "metadata": {
        "trusted": true,
        "id": "68fMIuTkhvjx"
      },
      "source": [
        "########### Splitting data into Training and Test Data for the standardized data ###########\n",
        "from sklearn.model_selection import train_test_split\n",
        "X_train_encoded,X_test_encoded,y_train,y_test = train_test_split(X_standard,y_new,test_size=0.2,random_state=42)"
      ],
      "execution_count": null,
      "outputs": []
    },
    {
      "cell_type": "code",
      "metadata": {
        "papermill": {
          "duration": 20.254615,
          "end_time": "2020-12-07T06:53:14.229885",
          "exception": false,
          "start_time": "2020-12-07T06:52:53.97527",
          "status": "completed"
        },
        "tags": [],
        "trusted": true,
        "id": "aIw8J7tkhvjy"
      },
      "source": [
        "import numpy as np\n",
        "from sklearn.linear_model import LogisticRegression\n",
        "from sklearn.metrics import accuracy_score,f1_score\n",
        "from sklearn.model_selection import cross_val_predict\n",
        "\n",
        "train_accuracies = []\n",
        "train_f1_scores = []\n",
        "test_accuracies = []\n",
        "test_f1_scores = []\n",
        "thresholds = []\n",
        "\n",
        "#Using different threshold values and finding the accuracy of the model\n",
        "for thresh in np.arange(0.1,0.9,0.1): ## Sweeping from threshold of 0.1 to 0.9\n",
        "    logreg_clf = LogisticRegression(solver='liblinear')\n",
        "    logreg_clf.fit(X_train_encoded,y_train)\n",
        "    \n",
        "    y_pred_train_thresh = logreg_clf.predict_proba(X_train_encoded)[:,1]\n",
        "    y_pred_train = (y_pred_train_thresh > thresh).astype(int)\n",
        "\n",
        "    train_acc = accuracy_score(y_train,y_pred_train)\n",
        "    train_f1 = f1_score(y_train,y_pred_train)\n",
        "    \n",
        "    y_pred_test_thresh = logreg_clf.predict_proba(X_test_encoded)[:,1]\n",
        "    y_pred_test = (y_pred_test_thresh > thresh).astype(int) \n",
        "    \n",
        "    test_acc = accuracy_score(y_test,y_pred_test)\n",
        "    test_f1 = f1_score(y_test,y_pred_test)\n",
        "    \n",
        "    train_accuracies.append(train_acc)\n",
        "    train_f1_scores.append(train_f1)\n",
        "    test_accuracies.append(test_acc)\n",
        "    test_f1_scores.append(test_f1)\n",
        "    thresholds.append(thresh)"
      ],
      "execution_count": null,
      "outputs": []
    },
    {
      "cell_type": "code",
      "metadata": {
        "papermill": {
          "duration": 0.423175,
          "end_time": "2020-12-07T06:53:14.689847",
          "exception": false,
          "start_time": "2020-12-07T06:53:14.266672",
          "status": "completed"
        },
        "tags": [],
        "trusted": true,
        "id": "HT5aq6w9hvj0"
      },
      "source": [
        "Threshold_logreg = {\"Training Accuracy\": train_accuracies, \"Test Accuracy\": test_accuracies, \"Training F1\": train_f1_scores, \"Test F1\":test_f1_scores, \"Decision Threshold\": thresholds }\n",
        "Threshold_logreg_df = pd.DataFrame.from_dict(Threshold_logreg)\n",
        "\n",
        "plot_df = Threshold_logreg_df.melt('Decision Threshold',var_name='Metrics',value_name=\"Values\")\n",
        "fig,ax = py.subplots(figsize=(15,5))\n",
        "sns.pointplot(x=\"Decision Threshold\", y=\"Values\",hue=\"Metrics\", data=plot_df,ax=ax)"
      ],
      "execution_count": null,
      "outputs": []
    },
    {
      "cell_type": "markdown",
      "metadata": {
        "id": "8RiFXvV4hvj2"
      },
      "source": [
        "##### Using the threshold value as 0.45"
      ]
    },
    {
      "cell_type": "code",
      "metadata": {
        "papermill": {
          "duration": 2.541904,
          "end_time": "2020-12-07T06:53:17.270472",
          "exception": false,
          "start_time": "2020-12-07T06:53:14.728568",
          "status": "completed"
        },
        "tags": [],
        "trusted": true,
        "id": "ZnPcMVQihvj2"
      },
      "source": [
        "# using a threshold of 0.45 for Log regression:\n",
        "\n",
        "logreg_clf = LogisticRegression(solver='liblinear')\n",
        "logreg_clf.fit(X_train_encoded,y_train)\n",
        "    \n",
        "y_pred_train_thresh = logreg_clf.predict_proba(X_train_encoded)[:,1]\n",
        "y_pred_train = (y_pred_train_thresh > 0.45).astype(int)\n",
        "\n",
        "train_acc = accuracy_score(y_train,y_pred_train)\n",
        "train_f1 = f1_score(y_train,y_pred_train)\n",
        "    \n",
        "y_pred_test_thresh = logreg_clf.predict_proba(X_test_encoded)[:,1]\n",
        "y_pred_test = (y_pred_test_thresh >0.45).astype(int) \n",
        "    \n",
        "test_acc = accuracy_score(y_test,y_pred_test)\n",
        "test_f1 = f1_score(y_test,y_pred_test)\n"
      ],
      "execution_count": null,
      "outputs": []
    },
    {
      "cell_type": "markdown",
      "metadata": {
        "id": "d9P_gog3hvj3"
      },
      "source": [
        "### Results for Logistic Regression:"
      ]
    },
    {
      "cell_type": "code",
      "metadata": {
        "papermill": {
          "duration": 0.16599,
          "end_time": "2020-12-07T06:53:17.47774",
          "exception": false,
          "start_time": "2020-12-07T06:53:17.31175",
          "status": "completed"
        },
        "tags": [],
        "trusted": true,
        "id": "unJvlPQghvj4"
      },
      "source": [
        "################# Training Data Results ######################\n",
        "print(\"Training acc. is :\", train_acc)\n",
        "print(\"Training f1 :\",train_f1)\n",
        "pd.crosstab(y_train, y_pred_train, rownames=['Actual'], colnames=['Predicted'], margins=True)\n"
      ],
      "execution_count": null,
      "outputs": []
    },
    {
      "cell_type": "code",
      "metadata": {
        "papermill": {
          "duration": 0.110815,
          "end_time": "2020-12-07T06:53:17.633627",
          "exception": false,
          "start_time": "2020-12-07T06:53:17.522812",
          "status": "completed"
        },
        "tags": [],
        "trusted": true,
        "id": "tN40n9Nuhvj4"
      },
      "source": [
        "################## Test Data Results #################\n",
        "print(\"Test acc. is :\", test_acc)\n",
        "print(\"Test f1 :\",test_f1)\n",
        "pd.crosstab(y_test, y_pred_test, rownames=['Actual'], colnames=['Predicted'], margins=True)"
      ],
      "execution_count": null,
      "outputs": []
    },
    {
      "cell_type": "markdown",
      "metadata": {
        "id": "yXw_fWjihvj4"
      },
      "source": [
        "### ROC curve for Logistic Regression:\n"
      ]
    },
    {
      "cell_type": "code",
      "metadata": {
        "trusted": true,
        "id": "LcIRm5y3hvj5"
      },
      "source": [
        "from sklearn.metrics import plot_roc_curve\n",
        "ax=py.gca()\n",
        "rfc=plot_roc_curve(logreg_clf,X_test_encoded,y_test,ax=ax,alpha=0.8)\n",
        "py.show()"
      ],
      "execution_count": null,
      "outputs": []
    },
    {
      "cell_type": "code",
      "metadata": {
        "trusted": true,
        "id": "6U2qyXN0hvj5"
      },
      "source": [
        "coeff_matrix = logreg_clf.coef_\n",
        "print(coeff_matrix)"
      ],
      "execution_count": null,
      "outputs": []
    },
    {
      "cell_type": "markdown",
      "metadata": {
        "papermill": {
          "duration": 0.041406,
          "end_time": "2020-12-07T06:53:17.71704",
          "exception": false,
          "start_time": "2020-12-07T06:53:17.675634",
          "status": "completed"
        },
        "tags": [],
        "id": "mFfkzVLKhvj6"
      },
      "source": [
        "### Model 2 - Decision Tree Classifier"
      ]
    },
    {
      "cell_type": "markdown",
      "metadata": {
        "id": "BYsnR73ohvj6"
      },
      "source": [
        "Decision tree classifier and Random Forest classifier is not sensitive to variation in the dataset. So, Test train split can be done to dataset without standardization (scaling) of data."
      ]
    },
    {
      "cell_type": "code",
      "metadata": {
        "trusted": true,
        "id": "lLp8Nh74hvj6"
      },
      "source": [
        "########### Splitting data into Training and Test Data ###########\n",
        "from sklearn.model_selection import train_test_split\n",
        "X_train_encoded,X_test_encoded,y_train,y_test = train_test_split(X_new,y_new,test_size=0.2,random_state=42)"
      ],
      "execution_count": null,
      "outputs": []
    },
    {
      "cell_type": "code",
      "metadata": {
        "papermill": {
          "duration": 15.408422,
          "end_time": "2020-12-07T06:53:33.167239",
          "exception": false,
          "start_time": "2020-12-07T06:53:17.758817",
          "status": "completed"
        },
        "tags": [],
        "trusted": true,
        "id": "0bfmqMUihvj7"
      },
      "source": [
        "from sklearn.tree import DecisionTreeClassifier\n",
        "from sklearn.model_selection import cross_val_score\n",
        "from sklearn.metrics import accuracy_score,f1_score\n",
        "\n",
        "\n",
        "tree_clf = DecisionTreeClassifier()\n",
        "tree_clf.fit(X_train_encoded,y_train)\n",
        "y_pred = tree_clf.predict(X_train_encoded)\n",
        "print(\"Training Data Set Accuracy: \", accuracy_score(y_train,y_pred))\n",
        "print(\"Training Data F1 Score \", f1_score(y_train,y_pred))\n",
        "\n",
        "print(\"Validation Mean F1 Score: \",cross_val_score(tree_clf,X_train_encoded,y_train,cv=5,scoring='f1_macro').mean())\n",
        "print(\"Validation Mean Accuracy: \",cross_val_score(tree_clf,X_train_encoded,y_train,cv=5,scoring='accuracy').mean())"
      ],
      "execution_count": null,
      "outputs": []
    },
    {
      "cell_type": "code",
      "metadata": {
        "papermill": {
          "duration": 0.087731,
          "end_time": "2020-12-07T06:53:33.297396",
          "exception": false,
          "start_time": "2020-12-07T06:53:33.209665",
          "status": "completed"
        },
        "tags": [],
        "trusted": true,
        "id": "wC_59k7lhvj7"
      },
      "source": [
        "y_pred = tree_clf.predict(X_test_encoded)\n",
        "print(\"Test Data Set Accuracy: \", accuracy_score(y_test,y_pred))\n",
        "print(\"Test Data F1 Score \", f1_score(y_test,y_pred))\n"
      ],
      "execution_count": null,
      "outputs": []
    },
    {
      "cell_type": "markdown",
      "metadata": {
        "id": "gSzUT8PAhvj7"
      },
      "source": [
        " On observing the trained and test accuracy of the model, it can be seen that the trained model has been overfitted."
      ]
    },
    {
      "cell_type": "code",
      "metadata": {
        "papermill": {
          "duration": 220.906248,
          "end_time": "2020-12-07T06:57:14.246384",
          "exception": false,
          "start_time": "2020-12-07T06:53:33.340136",
          "status": "completed"
        },
        "tags": [],
        "trusted": true,
        "id": "gsPV0J5ihvj7"
      },
      "source": [
        "########## tuning the depth parameter ##########\n",
        "training_accuracy = []\n",
        "val_accuracy = []\n",
        "training_f1 = []\n",
        "val_f1 = []\n",
        "tree_depths = []\n",
        "test_accuracy = []\n",
        "test_val_accuracy =[]\n",
        "test_val_f1 = []\n",
        "test_f1 =[]\n",
        "\n",
        "for depth in range(1,20):\n",
        "    tree_clf = DecisionTreeClassifier(max_depth=depth)\n",
        "    tree_clf.fit(X_train_encoded,y_train)\n",
        "    y_training_pred = tree_clf.predict(X_train_encoded)\n",
        "\n",
        "    training_acc = accuracy_score(y_train,y_training_pred)\n",
        "    train_f1 = f1_score(y_train,y_training_pred)\n",
        "    val_mean_f1 = cross_val_score(tree_clf,X_train_encoded,y_train,cv=5,scoring='f1_macro').mean()\n",
        "    val_mean_accuracy = cross_val_score(tree_clf,X_train_encoded,y_train,cv=5,scoring='accuracy').mean()\n",
        "    \n",
        "    y_test_pred_1 = tree_clf.predict(X_test_encoded)\n",
        "\n",
        "    training_acc_1 = accuracy_score(y_test,y_test_pred_1)\n",
        "    train_f1_1 = f1_score(y_test,y_test_pred_1)\n",
        "    val_mean_f1_1 = cross_val_score(tree_clf,X_test_encoded,y_test,cv=5,scoring='f1_macro').mean()\n",
        "    val_mean_accuracy_1 = cross_val_score(tree_clf,X_test_encoded,y_test,cv=5,scoring='accuracy').mean()\n",
        "    \n",
        "    training_accuracy.append(training_acc)\n",
        "    val_accuracy.append(val_mean_accuracy)\n",
        "    training_f1.append(train_f1)\n",
        "    val_f1.append(val_mean_f1)\n",
        "    tree_depths.append(depth)\n",
        "    \n",
        "     \n",
        "    test_accuracy.append(training_acc_1)\n",
        "    test_val_accuracy.append(val_mean_accuracy_1)\n",
        "    test_f1.append(train_f1_1)\n",
        "    test_val_f1.append(val_mean_f1_1)\n",
        "    \n",
        "\n",
        "Tuning_Max_depth = {\"Training Accuracy\": training_accuracy, \"Validation Accuracy\": val_accuracy, \"Training F1\": training_f1, \"Validation F1\":val_f1, \"Max_Depth\": tree_depths ,\"Test_val_f1\":test_val_f1 , \"Test_val_acc\":test_val_accuracy , \"Test_acc\":test_accuracy , \"Test_f1\":test_f1 }\n",
        "Tuning_Max_depth_df = pd.DataFrame.from_dict(Tuning_Max_depth)\n",
        "\n",
        "plot_df = Tuning_Max_depth_df.melt('Max_Depth',var_name='Metrics',value_name=\"Values\")\n",
        "fig,ax = py.subplots(figsize=(15,5))\n",
        "sns.pointplot(x=\"Max_Depth\", y=\"Values\",hue=\"Metrics\", data=plot_df,ax=ax)\n"
      ],
      "execution_count": null,
      "outputs": []
    },
    {
      "cell_type": "code",
      "metadata": {
        "papermill": {
          "duration": 0.601634,
          "end_time": "2020-12-07T06:57:14.894226",
          "exception": false,
          "start_time": "2020-12-07T06:57:14.292592",
          "status": "completed"
        },
        "tags": [],
        "trusted": true,
        "id": "EsxTKPb3hvj8"
      },
      "source": [
        "Tuning_Max_depth = {\"Training Accuracy\": training_accuracy, \"Validation Accuracy\": val_accuracy, \"Training F1\": training_f1, \"Validation F1\":val_f1, \"Max_Depth\": tree_depths }\n",
        "Tuning_Max_depth_df = pd.DataFrame.from_dict(Tuning_Max_depth)\n",
        "\n",
        "plot_df = Tuning_Max_depth_df.melt('Max_Depth',var_name='Metrics',value_name=\"Values\")\n",
        "fig,ax = py.subplots(figsize=(15,5))\n",
        "sns.pointplot(x=\"Max_Depth\", y=\"Values\",hue=\"Metrics\", data=plot_df,ax=ax)"
      ],
      "execution_count": null,
      "outputs": []
    },
    {
      "cell_type": "code",
      "metadata": {
        "papermill": {
          "duration": 0.671008,
          "end_time": "2020-12-07T06:57:15.612659",
          "exception": false,
          "start_time": "2020-12-07T06:57:14.941651",
          "status": "completed"
        },
        "tags": [],
        "trusted": true,
        "id": "9VnfrDhZhvj9"
      },
      "source": [
        "Tuning_Max_depth = {  \"Max_Depth\": tree_depths , \"Test_acc\":test_accuracy ,\"Test_val_acc\":test_val_accuracy,\"Test_f1\":test_f1 ,\"Test_val_f1\":test_val_f1  }\n",
        "Tuning_Max_depth_df = pd.DataFrame.from_dict(Tuning_Max_depth)\n",
        "\n",
        "plot_df = Tuning_Max_depth_df.melt('Max_Depth',var_name='Metrics',value_name=\"Values\")\n",
        "fig,ax = py.subplots(figsize=(15,5))\n",
        "sns.pointplot(x=\"Max_Depth\", y=\"Values\",hue=\"Metrics\", data=plot_df,ax=ax)"
      ],
      "execution_count": null,
      "outputs": []
    },
    {
      "cell_type": "markdown",
      "metadata": {
        "id": "v6bKVabxhvj9"
      },
      "source": [
        "###### From the graph plotted, depth = 8 seems to be a reasonable value, considering computational time limts and to reduce overfitting risks. "
      ]
    },
    {
      "cell_type": "code",
      "metadata": {
        "papermill": {
          "duration": 9.405541,
          "end_time": "2020-12-07T06:57:25.068553",
          "exception": false,
          "start_time": "2020-12-07T06:57:15.663012",
          "status": "completed"
        },
        "tags": [],
        "trusted": true,
        "id": "ecYvS_Bihvj9"
      },
      "source": [
        "# depth = 8\n",
        "\n",
        "tree_clf = DecisionTreeClassifier(max_depth =8)\n",
        "tree_clf.fit(X_train_encoded,y_train)\n",
        "y_pred = tree_clf.predict(X_train_encoded)\n",
        "print(\"Training Data Set Accuracy: \", accuracy_score(y_train,y_pred))\n",
        "print(\"Training Data F1 Score \", f1_score(y_train,y_pred))\n",
        "\n",
        "print(\"Validation Mean F1 Score: \",cross_val_score(tree_clf,X_train_encoded,y_train,cv=5,scoring='f1_macro').mean())\n",
        "print(\"Validation Mean Accuracy: \",cross_val_score(tree_clf,X_train_encoded,y_train,cv=5,scoring='accuracy').mean())"
      ],
      "execution_count": null,
      "outputs": []
    },
    {
      "cell_type": "code",
      "metadata": {
        "papermill": {
          "duration": 0.153149,
          "end_time": "2020-12-07T06:57:25.277822",
          "exception": false,
          "start_time": "2020-12-07T06:57:25.124673",
          "status": "completed"
        },
        "tags": [],
        "trusted": true,
        "id": "uZhahX57hvj9"
      },
      "source": [
        "pd.crosstab(y_train, y_pred, rownames=['Actual'], colnames=['Predicted'], margins=True)"
      ],
      "execution_count": null,
      "outputs": []
    },
    {
      "cell_type": "code",
      "metadata": {
        "papermill": {
          "duration": 1.905894,
          "end_time": "2020-12-07T06:57:27.235713",
          "exception": false,
          "start_time": "2020-12-07T06:57:25.329819",
          "status": "completed"
        },
        "tags": [],
        "trusted": true,
        "id": "pZ28YA6Rhvj-"
      },
      "source": [
        "#testing decision tree clasifier of depth 8\n",
        "y_pred = tree_clf.predict(X_test_encoded)\n",
        "print(\"Test Data Set Accuracy: \", accuracy_score(y_test,y_pred))\n",
        "print(\"Test Data F1 Score \", f1_score(y_test,y_pred))\n",
        "\n",
        "print(\"Validation Test Mean F1 Score: \",cross_val_score(tree_clf,X_test_encoded,y_test,cv=5,scoring='f1_macro').mean())\n",
        "print(\"Validation Test Mean Accuracy: \",cross_val_score(tree_clf,X_test_encoded,y_test,cv=5,scoring='accuracy').mean())\n",
        "\n",
        "pd.crosstab(y_test, y_pred, rownames=['Actual'], colnames=['Predicted'], margins=True)"
      ],
      "execution_count": null,
      "outputs": []
    },
    {
      "cell_type": "markdown",
      "metadata": {
        "id": "Sbo4XaXBhvj-"
      },
      "source": [
        "#### ROC curve for Decision Tree classifier"
      ]
    },
    {
      "cell_type": "code",
      "metadata": {
        "trusted": true,
        "id": "5IYia40bhvj-"
      },
      "source": [
        "from sklearn.metrics import plot_roc_curve\n",
        "ax=py.gca()\n",
        "rfc=plot_roc_curve(tree_clf,X_test_encoded,y_test,ax=ax,alpha=0.8)\n",
        "py.show()"
      ],
      "execution_count": null,
      "outputs": []
    },
    {
      "cell_type": "markdown",
      "metadata": {
        "papermill": {
          "duration": 0.056224,
          "end_time": "2020-12-07T06:57:27.459822",
          "exception": false,
          "start_time": "2020-12-07T06:57:27.403598",
          "status": "completed"
        },
        "tags": [],
        "id": "APR0Dau1hvj_"
      },
      "source": [
        "### Model 3 - Random Forest"
      ]
    },
    {
      "cell_type": "markdown",
      "metadata": {
        "id": "I3Qdtylwhvj_"
      },
      "source": [
        "No standardization (scaling) is done here, as stated before."
      ]
    },
    {
      "cell_type": "code",
      "metadata": {
        "papermill": {
          "duration": 31.576134,
          "end_time": "2020-12-07T06:57:59.090663",
          "exception": false,
          "start_time": "2020-12-07T06:57:27.514529",
          "status": "completed"
        },
        "tags": [],
        "trusted": true,
        "id": "fs7K8hf5hvj_"
      },
      "source": [
        "from sklearn.ensemble import RandomForestClassifier\n",
        "\n",
        "rf_clf = RandomForestClassifier(n_estimators=100,max_depth=14,min_samples_leaf = 10, random_state = 42)\n",
        "rf_clf.fit(X_train_encoded,y_train)\n",
        "y_pred = rf_clf.predict(X_train_encoded)\n",
        "print(\"Train F1 Score \", f1_score(y_train,y_pred))\n",
        "print(\"Train Accuracy \", accuracy_score(y_train,y_pred))\n",
        "\n"
      ],
      "execution_count": null,
      "outputs": []
    },
    {
      "cell_type": "code",
      "metadata": {
        "papermill": {
          "duration": 0.151667,
          "end_time": "2020-12-07T06:57:59.298538",
          "exception": false,
          "start_time": "2020-12-07T06:57:59.146871",
          "status": "completed"
        },
        "tags": [],
        "trusted": true,
        "id": "YTZ1hFg6hvj_"
      },
      "source": [
        "\n",
        "pd.crosstab(y_train, y_pred, rownames=['Actual'], colnames=['Predicted'], margins=True)"
      ],
      "execution_count": null,
      "outputs": []
    },
    {
      "cell_type": "code",
      "metadata": {
        "papermill": {
          "duration": 0.626695,
          "end_time": "2020-12-07T06:58:00.092405",
          "exception": false,
          "start_time": "2020-12-07T06:57:59.46571",
          "status": "completed"
        },
        "tags": [],
        "trusted": true,
        "id": "zPyIo3jkhvj_"
      },
      "source": [
        "########## evaluating random forest model for test dataset ##########\n",
        "y_pred = rf_clf.predict(X_test_encoded)\n",
        "print(\"Test Accuracy: \",accuracy_score(y_test,y_pred))\n",
        "print(\"Test F1 Score: \",f1_score(y_test,y_pred))\n",
        "print(\"Confusion Matrix on Test Data\")\n",
        "pd.crosstab(y_test, y_pred, rownames=['Actual'], colnames=['Predicted'], margins=True)"
      ],
      "execution_count": null,
      "outputs": []
    },
    {
      "cell_type": "markdown",
      "metadata": {
        "id": "y6SfBmnlhvkA"
      },
      "source": [
        "### ROC curve for Random Forest Classifier\n"
      ]
    },
    {
      "cell_type": "code",
      "metadata": {
        "trusted": true,
        "id": "t1VlUqmPhvkA"
      },
      "source": [
        "from sklearn.metrics import plot_roc_curve\n",
        "ax=py.gca()\n",
        "rfc=plot_roc_curve(rf_clf,X_test_encoded,y_test,ax=ax,alpha=0.8)\n",
        "py.show()"
      ],
      "execution_count": null,
      "outputs": []
    },
    {
      "cell_type": "markdown",
      "metadata": {
        "id": "IQuMEaSZhvkA"
      },
      "source": [
        "### Conclusion:\n",
        "**Random forest** model gives the highest accuracy of all these models on both train and test dataset."
      ]
    },
    {
      "cell_type": "markdown",
      "metadata": {
        "id": "auSulQ9bhvkA"
      },
      "source": [
        "## E. Test Set Prediction:\n"
      ]
    },
    {
      "cell_type": "code",
      "metadata": {
        "papermill": {
          "duration": 0.056814,
          "end_time": "2020-12-07T06:58:00.323884",
          "exception": false,
          "start_time": "2020-12-07T06:58:00.26707",
          "status": "completed"
        },
        "tags": [],
        "trusted": true,
        "id": "LpT2TrN6hvkA"
      },
      "source": [
        "######### importing test data set for evaluation ################\n",
        "X_test_evaluation = pd.read_csv('../input/loan-dataset/test_x.csv')"
      ],
      "execution_count": null,
      "outputs": []
    },
    {
      "cell_type": "code",
      "metadata": {
        "trusted": true,
        "id": "bS6EaUUzhvkB"
      },
      "source": [
        "X_test_evaluation.info()\n"
      ],
      "execution_count": null,
      "outputs": []
    },
    {
      "cell_type": "markdown",
      "metadata": {
        "id": "0IpPlAiUhvkB"
      },
      "source": [
        "There are no missing data in the test data set, so no imputation is required but we need to add dummy variables for categorical features."
      ]
    },
    {
      "cell_type": "code",
      "metadata": {
        "trusted": true,
        "id": "qH997ZZwhvkC"
      },
      "source": [
        "########### getting dummy values for categorical columns #########\n",
        "X_test_evaluation_new = X_test_evaluation.drop(columns=\"ID_Test\")\n",
        "X_test_evaluation_new= pd.get_dummies(X_test_evaluation_new,drop_first=True)\n",
        "X_test_evaluation_new.info()"
      ],
      "execution_count": null,
      "outputs": []
    },
    {
      "cell_type": "code",
      "metadata": {
        "trusted": true,
        "id": "bjBwbQpEhvkD"
      },
      "source": [
        "X_test_evaluation_new.head(10)"
      ],
      "execution_count": null,
      "outputs": []
    },
    {
      "cell_type": "code",
      "metadata": {
        "trusted": true,
        "id": "cXffseM_hvkD"
      },
      "source": [
        "##changing the order of columns in prediction test dataset same as training dataset\n",
        "\n",
        "X_test_evaluation_new = X_test_evaluation_new[['Expense','Income','Score1','Score2','Score3','Score4','Score5','Loan type_B','Occupation type_Y','Occupation type_Z','Age']]\n",
        "\n",
        "X_test_evaluation_new.info()"
      ],
      "execution_count": null,
      "outputs": []
    },
    {
      "cell_type": "code",
      "metadata": {
        "trusted": true,
        "id": "qVqjOsughvkE"
      },
      "source": [
        "X_test_evaluation_new.head()"
      ],
      "execution_count": null,
      "outputs": []
    },
    {
      "cell_type": "code",
      "metadata": {
        "trusted": true,
        "id": "Y2cR3-kzhvkF"
      },
      "source": [
        "######### predicting outputs using Random Forest Classifier ############\n",
        "pred_y_new =rf_clf.predict(X_test_evaluation_new)\n",
        "\n",
        "\n"
      ],
      "execution_count": null,
      "outputs": []
    },
    {
      "cell_type": "code",
      "metadata": {
        "trusted": true,
        "id": "AUUI0QXNhvkF"
      },
      "source": [
        "########## creating the ID of Loan Test data in a separate dataframe #######\n",
        "ID_column =pd.DataFrame(X_test_evaluation[\"ID_Test\"])\n",
        "\n",
        "############ creating the final required pred_y file with ID_Test and Label_Test as columns#######\n",
        "pred_y = ID_column.copy()\n",
        "pred_y[\"Label_Test\"]= pred_y_new\n",
        "\n"
      ],
      "execution_count": null,
      "outputs": []
    },
    {
      "cell_type": "code",
      "metadata": {
        "trusted": true,
        "id": "UYB-hLPRhvkG"
      },
      "source": [
        "######### getting output file in csv format ###########\n",
        "pred_y.to_csv('pred_y.csv')"
      ],
      "execution_count": null,
      "outputs": []
    },
    {
      "cell_type": "markdown",
      "metadata": {
        "id": "KEKwEW_dhvkG"
      },
      "source": [
        "## F. Additional Understanding:"
      ]
    },
    {
      "cell_type": "markdown",
      "metadata": {
        "id": "NJvAFw0khvkG"
      },
      "source": [
        "### Principal Component Analysis for Standardized Dataset"
      ]
    },
    {
      "cell_type": "code",
      "metadata": {
        "trusted": true,
        "id": "rvToFi6ghvkH"
      },
      "source": [
        "#################### PCA analysis for capturing 99 percent of variance in dataset ##############\n",
        "from sklearn.decomposition import PCA\n",
        "pca = PCA(0.99)  ########## capturing 99 percent variance in dataset\n",
        "\n",
        "pr_comp=pca.fit_transform(X_standard)\n",
        "pr_df= pd.DataFrame([])\n",
        "pr_df = pd.DataFrame(data = pr_comp,columns = ['Principal_Comp_1','Principal_Comp_2','Principal_Comp_3','Principal_Comp_4','Principal_Comp_5','Principal_Comp_6','Principal_comp_7','Principal_comp_8','Principal_comp_9'])  \n",
        "pr_df.info()"
      ],
      "execution_count": null,
      "outputs": []
    },
    {
      "cell_type": "code",
      "metadata": {
        "trusted": true,
        "id": "pv5PAoQ3hvkH"
      },
      "source": [
        "############ finding percentage of information captured by each principal components\n",
        "\n",
        "principal_components =['Principal_Comp_1','Principal_Comp_2','Principal_Comp_3','Principal_Comp_4','Principal_Comp_5','Principal_Comp_6','Principal_comp_7','Principal_comp_8','Principal_comp_9']\n",
        "principal_information_percent = pd.DataFrame([])\n",
        "principal_information_percent = pd.DataFrame(principal_components)\n",
        "principal_information_percent['percent variation captured'] = pd.DataFrame(data = pca.explained_variance_ratio_)\n",
        "\n",
        "principal_information_percent"
      ],
      "execution_count": null,
      "outputs": []
    },
    {
      "cell_type": "markdown",
      "metadata": {
        "id": "0F4VwzbLhvkH"
      },
      "source": [
        "Principal Component Analysis need 9 components for capturing 99 percent variation in dataset. Our original dataset has 11 features, we are able to reduce only 2 features."
      ]
    },
    {
      "cell_type": "code",
      "metadata": {
        "trusted": true,
        "id": "aZcAGBp0hvkI"
      },
      "source": [
        "###Finding the amount of variance explained by each principal component###\n",
        "print(pca.explained_variance_)"
      ],
      "execution_count": null,
      "outputs": []
    },
    {
      "cell_type": "code",
      "metadata": {
        "trusted": true,
        "id": "Jo3jVcRthvkI"
      },
      "source": [
        "###Directions of Principal Axes##\n",
        "print(pca.components_)"
      ],
      "execution_count": null,
      "outputs": []
    },
    {
      "cell_type": "code",
      "metadata": {
        "trusted": true,
        "id": "ZAlyl8_xhvkI"
      },
      "source": [
        "#################### PCA analysis for capturing 95 percent of variance in dataset ##############\n",
        "pca2 = PCA(0.95)  ########## capturing 95 percent variance in dataset\n",
        "\n",
        "pr_comp2=pca2.fit_transform(X_standard)\n",
        "pr_df2 = pd.DataFrame([])\n",
        "pr_df2 = pd.DataFrame(data = pr_comp2,columns = ['New Principal_Comp_1','New Principal_Comp_2','New Princi_Comp_3','New Principal_Comp_4','New Principal_Comp_5','New Principal_Comp_6'])  \n",
        "pr_df2.info()"
      ],
      "execution_count": null,
      "outputs": []
    },
    {
      "cell_type": "markdown",
      "metadata": {
        "id": "K7a3QYYUhvkM"
      },
      "source": [
        "We see that, For 95 percent variance retention, there are 6 principal components, while there are 11 features in original data set. So, it nearly compressed half of the data features."
      ]
    },
    {
      "cell_type": "code",
      "metadata": {
        "trusted": true,
        "id": "eR-_CqT1hvkM"
      },
      "source": [
        "############ finding percentage of information captured by each principal components\n",
        "\n",
        "principal_components_2 =['New Principal_Comp_1','New Principal_Comp_2','New Principal_Comp_3','New Principal_Comp_4','New Principal_Comp_5','New Principal_Comp_6']\n",
        "principal_information_percent_2 = pd.DataFrame([])\n",
        "principal_information_percent_2 = pd.DataFrame(principal_components_2)\n",
        "principal_information_percent_2['percent variation captured'] = pd.DataFrame(data = pca2.explained_variance_ratio_)\n",
        "\n",
        "principal_information_percent_2"
      ],
      "execution_count": null,
      "outputs": []
    },
    {
      "cell_type": "markdown",
      "metadata": {
        "id": "blWyHg8IhvkM"
      },
      "source": [
        "Comparing these with the 99% variance retention case, we see that the last three principal components in the 99% case are disregarded in 95% case because they have very less values of captured variance."
      ]
    },
    {
      "cell_type": "markdown",
      "metadata": {
        "id": "H_v2pL3nhvkN"
      },
      "source": [
        "### Feature Selection"
      ]
    },
    {
      "cell_type": "code",
      "metadata": {
        "trusted": true,
        "id": "qvrsJDwChvkN"
      },
      "source": [
        "##Mutual information (MI) Criterion##\n",
        "from sklearn.feature_selection import mutual_info_classif\n",
        "mi = mutual_info_classif(X_standard, y_new,random_state = 42)\n",
        "print(mi)\n",
        "print(\"Mean value of MI = \", np.mean(mi))\n",
        "print(\"Standard deviation of MI is =\", np.std(mi))"
      ],
      "execution_count": null,
      "outputs": []
    },
    {
      "cell_type": "markdown",
      "metadata": {
        "id": "ZJpqO1AahvkN"
      },
      "source": [
        "Observing the mean and standard deviation, we select 0.045 as a threshold. We see that the last four features, i.e, Loan_B, Occupation_Y, Occupation_Z, Age_1.0 and Score_3 have less values of mutual information than the threshold. So, these features are less important using MI criterion."
      ]
    },
    {
      "cell_type": "code",
      "metadata": {
        "trusted": true,
        "id": "Q9b9gyivhvkN"
      },
      "source": [
        "from sklearn.ensemble import ExtraTreesClassifier\n",
        "tree_model = ExtraTreesClassifier(random_state = 42)\n",
        "tree_model.fit(X_standard, y_new)\n",
        "importance_list = tree_model.feature_importances_\n",
        "print(importance_list)\n",
        "print(\"Mean value of importance = \", np.mean(importance_list))\n",
        "print(\"Standard deviation of importance is =\", np.std(importance_list))\n"
      ],
      "execution_count": null,
      "outputs": []
    },
    {
      "cell_type": "markdown",
      "metadata": {
        "id": "xbE5rUqChvkN"
      },
      "source": [
        "Observing the mean and standard deviation, we select 0.08 as a threshold. We see that the last four features, i.e, Loan_B, Occupation_Y, Occupation_Z, and Age_1.0 have less values of importance than the threshold. So, these features are less important using Tree importance criterion."
      ]
    },
    {
      "cell_type": "markdown",
      "metadata": {
        "id": "L-qVpT6whvkN"
      },
      "source": [
        "So, from the intersection of both above criterion of feature importance, we can say that the last four features i.e., Loan_B, Occupation_Y, Occupation_Z, and Age_1.0 have less importance. In the original data set given in problem, these correspond to Loan type, Occupation and Age of customer. So, we can say that these are less important features than the others we have here."
      ]
    },
    {
      "cell_type": "markdown",
      "metadata": {
        "id": "Q_XY8_8qhvkN"
      },
      "source": [
        "-----------------------------------------##THANKYOU##-------------------------------------------"
      ]
    }
  ]
}